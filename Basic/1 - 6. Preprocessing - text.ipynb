{
 "cells": [
  {
   "cell_type": "code",
   "execution_count": 1,
   "id": "informal-writing",
   "metadata": {},
   "outputs": [],
   "source": [
    "import tensorflow as tf\n",
    "import pathlib\n",
    "from tensorflow.keras import preprocessing"
   ]
  },
  {
   "cell_type": "code",
   "execution_count": 2,
   "id": "parental-trading",
   "metadata": {},
   "outputs": [
    {
     "name": "stdout",
     "output_type": "stream",
     "text": [
      "Downloading data from https://storage.googleapis.com/download.tensorflow.org/data/stack_overflow_16k.tar.gz\n",
      "6053888/6053168 [==============================] - 1s 0us/step\n"
     ]
    }
   ],
   "source": [
    "data_url = 'https://storage.googleapis.com/download.tensorflow.org/data/stack_overflow_16k.tar.gz'\n",
    "\n",
    "dataset = tf.keras.utils.get_file(\n",
    "    'stack_overflow_16k.tar.gz',\n",
    "    data_url,\n",
    "    untar = True, #是否解壓縮\n",
    "    cache_dir = 'stack_overflow',\n",
    "    cache_subdir= '' #快取的子目錄\n",
    ")\n",
    "dataset_dir = pathlib.Path(dataset).parent"
   ]
  },
  {
   "cell_type": "code",
   "execution_count": 3,
   "id": "heavy-photographer",
   "metadata": {},
   "outputs": [
    {
     "data": {
      "text/plain": [
       "[WindowsPath('/tmp/.keras/README.md'),\n",
       " WindowsPath('/tmp/.keras/stack_overflow_16k.tar.gz.tar.gz'),\n",
       " WindowsPath('/tmp/.keras/test'),\n",
       " WindowsPath('/tmp/.keras/train')]"
      ]
     },
     "execution_count": 3,
     "metadata": {},
     "output_type": "execute_result"
    }
   ],
   "source": [
    "list(dataset_dir.iterdir())"
   ]
  },
  {
   "cell_type": "code",
   "execution_count": 4,
   "id": "forty-porter",
   "metadata": {},
   "outputs": [
    {
     "data": {
      "text/plain": [
       "[WindowsPath('/tmp/.keras/train/csharp'),\n",
       " WindowsPath('/tmp/.keras/train/java'),\n",
       " WindowsPath('/tmp/.keras/train/javascript'),\n",
       " WindowsPath('/tmp/.keras/train/python')]"
      ]
     },
     "execution_count": 4,
     "metadata": {},
     "output_type": "execute_result"
    }
   ],
   "source": [
    "train_dir = dataset_dir/'train' #取得train的路徑\n",
    "list(train_dir.iterdir())"
   ]
  },
  {
   "cell_type": "code",
   "execution_count": 6,
   "id": "tropical-pharmacy",
   "metadata": {},
   "outputs": [
    {
     "name": "stdout",
     "output_type": "stream",
     "text": [
      "why does this blank program print true x=true.def stupid():.    x=false.stupid().print x\n",
      "\n"
     ]
    }
   ],
   "source": [
    "sample_file = train_dir/'python/1755.txt' #取得某一個文檔檢視\n",
    "with open(sample_file) as f:\n",
    "    print(f.read())"
   ]
  },
  {
   "cell_type": "code",
   "execution_count": 7,
   "id": "further-incident",
   "metadata": {},
   "outputs": [
    {
     "name": "stdout",
     "output_type": "stream",
     "text": [
      "Found 8000 files belonging to 4 classes.\n",
      "Using 6400 files for training.\n"
     ]
    }
   ],
   "source": [
    "batch_size = 32\n",
    "seed = 88\n",
    "\n",
    "#透過text_dataset_from_directory取得資料\n",
    "\n",
    "raw_train_ds = preprocessing.text_dataset_from_directory(\n",
    "        train_dir,\n",
    "        batch_size = batch_size,\n",
    "        validation_split = 0.2,\n",
    "        subset = 'training',  #將該資料設定為training用\n",
    "        seed = seed\n",
    "        )\n",
    "\n",
    "#main_directory/\n",
    "#...class_a/\n",
    "#......a_text_1.txt\n",
    "#......a_text_2.txt\n",
    "#...class_b/\n",
    "#......b_text_1.txt\n",
    "#......b_text_2.txt\n",
    "\n",
    "#directory：數據來源\n",
    "#labels：如果設定inferred，則會根據資料夾名稱當作標籤\n",
    "#label_mode：分為int、categorical、binary\n",
    "#class_names：可指定標籤名稱或使用inferred自動處理\n",
    "#batch_size：預設32\n",
    "#max_length：最長的字串長度\n",
    "#shuffle：隨機排序資料\n",
    "#seed：隨機種子\n",
    "#validation_split：介於0~1之前指定測試資料，通常設定0.2,0.3,0.4\n",
    "#subset：指定用途，參數只有\"training\" 或 \"validation\"\n",
    "#follow_links：預設為Flase，是否以參照方式訪問子目錄\n"
   ]
  },
  {
   "cell_type": "code",
   "execution_count": 8,
   "id": "talented-clock",
   "metadata": {},
   "outputs": [
    {
     "name": "stdout",
     "output_type": "stream",
     "text": [
      "Question:  b'can object method have own propertis? for function i can make this:..uniqueinteger.counter = 0;..fun' ...\n",
      "Label: 2\n",
      "Question:  b'\"getting cards in hand blank i am currently writing a modified version of gin rummy. my problem is i' ...\n",
      "Label: 1\n",
      "Question:  b'\"blank.net excel reading and writing i have two times in the format..\"\"hours:mins:secs\"\" and and i w' ...\n",
      "Label: 0\n",
      "Question:  b'\"writing column entry just one below another in blank i have imported a file containing 8 columns, e' ...\n",
      "Label: 3\n",
      "Question:  b'\"extract id from json string i have the following json string. what is the best way to extract the i' ...\n",
      "Label: 0\n",
      "Question:  b'\"ifs and arraylists is there a way to do an if statement where one number is compared to an entire a' ...\n",
      "Label: 1\n",
      "Question:  b'\"clarification on filter() function; how it works so, i am self-learning html, css, blank. i was goi' ...\n",
      "Label: 2\n",
      "Question:  b'\"blank - \\'too many values to unpack\\', and \\'list has no attribute \\'iteritems\\'\\' i am trying to compare' ...\n",
      "Label: 3\n",
      "Question:  b'delete number after slash in blank hey lets say i have url like this:..http://google.com/1/2...how d' ...\n",
      "Label: 2\n",
      "Question:  b'blankic way of doing so? i wish to have the following simple algorithm implemented in blank..here is' ...\n",
      "Label: 3\n"
     ]
    }
   ],
   "source": [
    "for text_batch,label_batch in raw_train_ds.take(1):\n",
    "    for i in range(10):\n",
    "        print(\"Question: \",text_batch.numpy()[i][:100],'...')\n",
    "        print(\"Label:\",label_batch.numpy()[i])"
   ]
  },
  {
   "cell_type": "markdown",
   "id": "stable-julian",
   "metadata": {},
   "source": [
    "## 產生Label 對應數字"
   ]
  },
  {
   "cell_type": "code",
   "execution_count": 9,
   "id": "informal-recommendation",
   "metadata": {},
   "outputs": [
    {
     "name": "stdout",
     "output_type": "stream",
     "text": [
      "Label 0 corresponds to  csharp\n",
      "Label 1 corresponds to  java\n",
      "Label 2 corresponds to  javascript\n",
      "Label 3 corresponds to  python\n"
     ]
    }
   ],
   "source": [
    "for i,label in enumerate(raw_train_ds.class_names):\n",
    "    print(\"Label\",i,\"corresponds to \",label)\n",
    "    "
   ]
  },
  {
   "cell_type": "code",
   "execution_count": 10,
   "id": "artistic-negotiation",
   "metadata": {},
   "outputs": [
    {
     "name": "stdout",
     "output_type": "stream",
     "text": [
      "Found 8000 files belonging to 4 classes.\n",
      "Using 1600 files for validation.\n"
     ]
    }
   ],
   "source": [
    "raw_val_ds = preprocessing.text_dataset_from_directory(\n",
    "    train_dir,\n",
    "    batch_size = batch_size,\n",
    "    validation_split = 0.2,\n",
    "    subset = 'validation', #將該資料設定為validation用\n",
    "    seed = seed\n",
    ")"
   ]
  },
  {
   "cell_type": "code",
   "execution_count": 11,
   "id": "portable-commissioner",
   "metadata": {},
   "outputs": [
    {
     "name": "stdout",
     "output_type": "stream",
     "text": [
      "Question:  b'\"how to convert an undetermined number of input st' ...\n",
      "Label: 2\n",
      "Question:  b'\"is simulating structs in blank a good way to go o' ...\n",
      "Label: 1\n",
      "Question:  b'\"is there a way to change a value of a timespan ob' ...\n",
      "Label: 0\n",
      "Question:  b'\"center labels in tablelayoutpanel i can not get l' ...\n",
      "Label: 0\n",
      "Question:  b'\"palindrome parser logic error i\\'m trying to creat' ...\n",
      "Label: 1\n",
      "Question:  b'i am making software in blank. tell me how to conv' ...\n",
      "Label: 1\n",
      "Question:  b'\"get tuple from double \"\"for\"\" loop in blank the c' ...\n",
      "Label: 3\n",
      "Question:  b'\"conditional operator what is wrong in this codeif' ...\n",
      "Label: 1\n",
      "Question:  b'\"is it possible to measure the distance of the ove' ...\n",
      "Label: 2\n",
      "Question:  b'\"blank crash while downloading file i want do down' ...\n",
      "Label: 1\n"
     ]
    }
   ],
   "source": [
    "for text_batch,label_batch in raw_val_ds.take(1):\n",
    "    for i in range(10):\n",
    "        print(\"Question: \", text_batch.numpy()[i][:50], '...')\n",
    "        print(\"Label:\", label_batch.numpy()[i])"
   ]
  },
  {
   "cell_type": "code",
   "execution_count": null,
   "id": "charming-stadium",
   "metadata": {},
   "outputs": [],
   "source": []
  }
 ],
 "metadata": {
  "kernelspec": {
   "display_name": "Python 3",
   "language": "python",
   "name": "python3"
  },
  "language_info": {
   "codemirror_mode": {
    "name": "ipython",
    "version": 3
   },
   "file_extension": ".py",
   "mimetype": "text/x-python",
   "name": "python",
   "nbconvert_exporter": "python",
   "pygments_lexer": "ipython3",
   "version": "3.6.13"
  }
 },
 "nbformat": 4,
 "nbformat_minor": 5
}
