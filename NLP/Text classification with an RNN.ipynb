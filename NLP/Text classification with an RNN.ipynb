{
 "cells": [
  {
   "cell_type": "markdown",
   "id": "594f4840",
   "metadata": {},
   "source": [
    "- This text classification tutorial trains a recurrent neural network on the IMDB large movie review dataset for sentiment analysis.\n",
    "\n",
    "\n",
    "#### Ref: https://www.tensorflow.org/text/tutorials/text_classification_rnn\n",
    "\n"
   ]
  },
  {
   "cell_type": "code",
   "execution_count": 1,
   "id": "b3ef06d1",
   "metadata": {},
   "outputs": [],
   "source": [
    "import numpy as np\n",
    "\n",
    "import tensorflow_datasets as tfds\n",
    "import tensorflow as tf\n",
    "\n",
    "tfds.disable_progress_bar()\n",
    "\n",
    "import matplotlib.pyplot as plt\n",
    "\n"
   ]
  },
  {
   "cell_type": "code",
   "execution_count": 2,
   "id": "716fd9ca",
   "metadata": {},
   "outputs": [],
   "source": [
    "\n",
    "def plot_graphs(history, metric):\n",
    "    plt.plot(history.history[metric])\n",
    "    plt.plot(history.history['val_'+metric], '')\n",
    "    plt.xlabel(\"Epochs\")\n",
    "    plt.ylabel(metric)\n",
    "    plt.legend([metric, 'val_'+metric])"
   ]
  },
  {
   "cell_type": "markdown",
   "id": "5325c954",
   "metadata": {},
   "source": [
    "## Input piepline\n",
    "\n",
    "- Download sample data from TFDS"
   ]
  },
  {
   "cell_type": "code",
   "execution_count": 3,
   "id": "d96c8b3f",
   "metadata": {},
   "outputs": [
    {
     "data": {
      "text/plain": [
       "(TensorSpec(shape=(), dtype=tf.string, name=None),\n",
       " TensorSpec(shape=(), dtype=tf.int64, name=None))"
      ]
     },
     "execution_count": 3,
     "metadata": {},
     "output_type": "execute_result"
    }
   ],
   "source": [
    "dataset, info = tfds.load('imdb_reviews' , with_info = True,\n",
    "                         as_supervised = True)\n",
    "\n",
    "train_dataset, test_dataset = dataset['train'], dataset['test']\n",
    "\n",
    "train_dataset.element_spec"
   ]
  },
  {
   "cell_type": "code",
   "execution_count": 4,
   "id": "b25933a7",
   "metadata": {},
   "outputs": [
    {
     "name": "stdout",
     "output_type": "stream",
     "text": [
      "text:  b\"This was an absolutely terrible movie. Don't be lured in by Christopher Walken or Michael Ironside. Both are great actors, but this must simply be their worst role in history. Even their great acting could not redeem this movie's ridiculous storyline. This movie is an early nineties US propaganda piece. The most pathetic scenes were those when the Columbian rebels were making their cases for revolutions. Maria Conchita Alonso appeared phony, and her pseudo-love affair with Walken was nothing but a pathetic emotional plug in a movie that was devoid of any real meaning. I am disappointed that there are movies like this, ruining actor's like Christopher Walken's good name. I could barely sit through it.\"\n",
      "label:  0\n"
     ]
    }
   ],
   "source": [
    "for example, label in train_dataset.take(1):\n",
    "    print('text: ', example.numpy())\n",
    "    print('label: ',label.numpy())\n",
    "    "
   ]
  },
  {
   "cell_type": "code",
   "execution_count": 5,
   "id": "969a9ea9",
   "metadata": {},
   "outputs": [
    {
     "name": "stdout",
     "output_type": "stream",
     "text": [
      "texts:  [b\"I was speechless and devastated after my first viewing of this - many parts of GREY GARDENS are very funny and unbelievably surreal - documentary of not, this really gives Fellini or David Lynch a run for their money in the weirdsville sweepstakes. I kept focusing on how these women (who are clinically way beyond eccentric) reveal their own humanity in the most surprising of ways, and I wonder whether their retreat from the world was prompted by something beyond the stuffiness of life in the unreal blue-blood universe, perhaps some abuse, or perhaps simply a streak of defiance and rebellion that spiralled out of their control and took on a life of its' own. This might be one of the greatest ever films that comes dangerously close to exploitation, without going completely over the edge - as the Edies do their thing, I kept noting things like the empty gin bottles in the rubble-strewn bedroom, cats urinating on the bed, racoons emerging from holes in the walls, and the final scene seemed incredibly sad - like a child's birthday party gone seriously wrong. Very definitely worth seeing and seeking out - you'll never forget it, but very disturbing.\"\n",
      " b'As long as you go into this movie knowing that it\\'s terrible: bad acting, bad \"effects,\" bad story, bad... everything, then you\\'ll love it. This is one of my favorite \"goof on\" movies; watch it as a comedy and have a dozen good laughs!'\n",
      " b'If you want to see a movie that terribly mixes up one Latin country with any other Latin country, \"The Celestine Prophecy\" is a good example: 1. Per\\xc3\\xba, not even in its most violent times, has not shown polices or soldiers as much as in this film. This showed a country like El Salvador when Civil War. Since I\\'m a Peruvian who lives in Lima (the capital of Per\\xc3\\xba), it was too funny to me seeing the police guards here, there and everywhere. 2. If you have a car in Per\\xc3\\xba, and you want (or need) to be a taxi driver, just post a sticker with the word \"Taxi\" on the front glass of your car and you can drive freely in Peruvian streets (there are taxi companies, but their rates are quite expensive). No need of yellow or a black/white squared band on the doors of your car. Well, taxis in this film have that band, somethin that you will never see in Per\\xc3\\xba. 3. Peruvian people are not Caribbean styled clothing. For example, when a taxi driver comes out, he was wearing a \"Guayabera\" (Cuban shirt), a white hat, and 40\\'s mustaches, like Clark Gable. Not one Peruvian man looks like that, please! Per\\xc3\\xba is not the Caribbeans! 4. A scene shows a woman on a street with a quite long skirt, like the typical folklore dresses in Latin America. Take a walk anywhere in Per\\xc3\\xba, and you\\'ll never find a woman wearing like that, unless you are watching a typical dance. 5. Cast could\\'ve been better: I can not deny H\\xc3\\xa9ctor Elizondo is a great actor, but he\\'s not a Latin actor (his father was Basque and his mother from Puerto Rico, but he was born in New York) and his Spanish is not fluent. It\\'s notorious Spanish is not his first language. There are dozens of very good Latin actors who could\\'ve performed as Cardinal Sebasti\\xc3\\xa1n. Petrus Antonius (General Rodr\\xc3\\xadguez) was also a bad choice for a \"Latin Police officer\". It was so funny seeing Elizondo and Petronius in General Rodr\\xc3\\xadguez\\'s office. They looked like two English or American students in a Spanish class, making their best effort in order to pronounce Spanish. Unsuccessfully, of course. Castulo Guerra was better in his Spanish. A \"Peruvian\" officer, who announced Cardinal Sebasti\\xc3\\xa1n, spoke a quite funny Spanish too. There are very good Peruvian actors, like Augusto Alvarez-Calder\\xc3\\xb3n and Christian Meier (just to mention two out of many Peruvian actors), who could\\'ve performed with excellence. 6. I admit that a fictional movie can let itself a license inventing cities or, even, countries. But, please, when creating a name, be careful when using a foreign language: The town portrayed in this movie should\\'ve been called \"Vicente\" and not \"Viciente\". Vicente is a male name, and Viciente has never been used. 7. I disagree one user, who says that this movie was filmed on locations in Per\\xc3\\xba. Not one location is Peruvian, although the production has used in excess posters showing \"Inca Kola\", the Peruvian soda. As not few American films, this one must have used any Latin country. After all, for American producers or directors, a Latin place is identical to any other Latin place. 8. In the first scenes, when John (Matthew Settle) flies to Per\\xc3\\xba, he\\'s supposed to arrive to the only one international airport in Per\\xc3\\xba: Jorge Ch\\xc3\\xa1vez Airport (in Lima, the capital). Actually, believe me, it must be any airport in the world, but Peruvian airport. And, of course, in Peruvian airports there are no military or police guards. 9. When this John takes a room in a Peruvian hotel, this one has a fan and, obviously has no air conditioner. Please, this doesn\\'t happen in no hotel in Per\\xc3\\xba(and other Latin countries), unless you get a 1 star hotel! 10. The rebels who fight against the government are... \\xc2\\xa1Colombians! Their accent was, with no doubt, from Colombia. For casting them, the producers should\\'ve hired Peruvian actors. In few words, it would\\'ve been cheaper filming in Per\\xc3\\xba.<br /><br />I could go on with more examples out of this film, that led me to give it a \"1\" (awful) vote, but I fell asleep after about 20 minutes from its beginning. But dear producers: It\\'s not a tragedy: There are many worse movies with not few mistakes. Just let\\'s remember \"Indiana Jones and the kingdom of the Crystal skull\" and indescribable Disney\\'s \"The Emperor\\'s new groove\". The list of bad films could be endless...']\n",
      "\n",
      "labels:  [1 1 0]\n"
     ]
    }
   ],
   "source": [
    "### Shuffle data and create (text, label) pairs\n",
    "\n",
    "\n",
    "BUFFER_SIZE = 10000\n",
    "BATCH_SIZE = 64\n",
    "\n",
    "train_dataset = train_dataset.shuffle(BUFFER_SIZE).batch(BATCH_SIZE).prefetch(tf.data.AUTOTUNE)\n",
    "test_dataset = test_dataset.batch(BATCH_SIZE).prefetch(tf.data.AUTOTUNE)\n",
    "\n",
    "\n",
    "for example, label in train_dataset.take(1):\n",
    "    print('texts: ',example.numpy()[:3])\n",
    "    print()\n",
    "    print('labels: ',label.numpy()[:3])"
   ]
  },
  {
   "cell_type": "markdown",
   "id": "9aff97d2",
   "metadata": {},
   "source": [
    "## Create text encoder \n",
    "\n",
    "- TextVectorization: text to indices(默認以空格斷詞), 配合adapt(x) 取高頻字\n",
    "- Create the layer, and pass the dataset's text to the layer's .adapt method\n",
    "\n",
    "\n",
    "- adapt(\n",
    "    data, batch_size=None, steps=None\n",
    "): 計算高頻出現字, 由高排到低\n",
    "\n",
    "#### Once the vocabulary is set, the layer can encode text into indices. The tensors of indices are 0-padded to the longest sequence in the batch (unless you set a fixed output_sequence_length)\n",
    "\n",
    "#### Ref: TextVectorization: https://zhuanlan.zhihu.com/p/293208563"
   ]
  },
  {
   "cell_type": "code",
   "execution_count": 14,
   "id": "707dae9d",
   "metadata": {},
   "outputs": [
    {
     "data": {
      "text/plain": [
       "array(['', '[UNK]', 'the', 'and', 'a', 'of', 'to', 'is', 'in', 'it', 'i',\n",
       "       'this', 'that', 'br', 'was', 'as', 'for', 'with', 'movie', 'but'],\n",
       "      dtype='<U14')"
      ]
     },
     "execution_count": 14,
     "metadata": {},
     "output_type": "execute_result"
    }
   ],
   "source": [
    "VOCAB_SIZE = 1000\n",
    "encoder = tf.keras.layers.TextVectorization(\n",
    "    max_tokens = VOCAB_SIZE)\n",
    "\n",
    "### 將train_dataset中 text,label pairs轉成只有text\n",
    "### adapt 計算高頻字\n",
    "encoder.adapt(train_dataset.map(lambda text, label: text))\n",
    "\n",
    "# The .adapt method sets the layer's vocabulary. Here are the first 20 tokens.\n",
    "# After the padding and unknown tokens they're sorted by frequency:\n",
    "\n",
    "vocab = np.array(encoder.get_vocabulary())\n",
    "vocab[:20]\n"
   ]
  },
  {
   "cell_type": "code",
   "execution_count": 15,
   "id": "bded7f92",
   "metadata": {},
   "outputs": [
    {
     "data": {
      "text/plain": [
       "array([[ 10,  14,   1, ...,   0,   0,   0],\n",
       "       [ 15, 206,  15, ...,   0,   0,   0],\n",
       "       [ 45,  23, 178, ...,  96,  28,   1]], dtype=int64)"
      ]
     },
     "execution_count": 15,
     "metadata": {},
     "output_type": "execute_result"
    }
   ],
   "source": [
    "encoded_example = encoder(example)[:3].numpy()\n",
    "encoded_example"
   ]
  },
  {
   "cell_type": "code",
   "execution_count": 18,
   "id": "17fe6c5e",
   "metadata": {},
   "outputs": [
    {
     "name": "stdout",
     "output_type": "stream",
     "text": [
      "Original:  b\"I was speechless and devastated after my first viewing of this - many parts of GREY GARDENS are very funny and unbelievably surreal - documentary of not, this really gives Fellini or David Lynch a run for their money in the weirdsville sweepstakes. I kept focusing on how these women (who are clinically way beyond eccentric) reveal their own humanity in the most surprising of ways, and I wonder whether their retreat from the world was prompted by something beyond the stuffiness of life in the unreal blue-blood universe, perhaps some abuse, or perhaps simply a streak of defiance and rebellion that spiralled out of their control and took on a life of its' own. This might be one of the greatest ever films that comes dangerously close to exploitation, without going completely over the edge - as the Edies do their thing, I kept noting things like the empty gin bottles in the rubble-strewn bedroom, cats urinating on the bed, racoons emerging from holes in the walls, and the final scene seemed incredibly sad - like a child's birthday party gone seriously wrong. Very definitely worth seeing and seeking out - you'll never forget it, but very disturbing.\"\n",
      "Round-trip:  i was [UNK] and [UNK] after my first viewing of this many parts of [UNK] [UNK] are very funny and [UNK] [UNK] documentary of not this really gives [UNK] or david [UNK] a run for their money in the [UNK] [UNK] i kept [UNK] on how these women who are [UNK] way beyond [UNK] [UNK] their own [UNK] in the most [UNK] of ways and i wonder whether their [UNK] from the world was [UNK] by something beyond the [UNK] of life in the [UNK] [UNK] [UNK] perhaps some [UNK] or perhaps simply a [UNK] of [UNK] and [UNK] that [UNK] out of their [UNK] and took on a life of its own this might be one of the greatest ever films that comes [UNK] close to [UNK] without going completely over the [UNK] as the [UNK] do their thing i kept [UNK] things like the [UNK] [UNK] [UNK] in the [UNK] [UNK] [UNK] [UNK] on the [UNK] [UNK] [UNK] from [UNK] in the [UNK] and the final scene seemed incredibly sad like a [UNK] [UNK] [UNK] gone seriously wrong very definitely worth seeing and [UNK] out youll never forget it but very [UNK]                                                                                                                                                                                                                                                                                                                                                                                                                                                                                                                                                                         \n",
      "\n"
     ]
    }
   ],
   "source": [
    "## The default value for preprocessing.\n",
    "## TextVectorization's standardize argument is \"lower_and_strip_punctuation\"\n",
    "## The limited vocabulary size and lack of character-based fallback results in some unknown tokens\n",
    "\n",
    "\n",
    "for n in range(1):\n",
    "    print(\"Original: \", example[n].numpy())\n",
    "    print(\"Round-trip: \", \" \".join(vocab[encoded_example[n]]))\n",
    "    print()"
   ]
  },
  {
   "cell_type": "markdown",
   "id": "dca90fde",
   "metadata": {},
   "source": [
    "## Create Model\n",
    "\n",
    "- Encoder:which converts the text to a sequence of token indices.\n",
    "- embedding layer: converts the sequences of word indices to sequences of vectors\n",
    "- RNN layer: RNNs pass the outputs from one timestep to their input on the next timestep.\n",
    "- Dense layer\n",
    "\n",
    "\n",
    "\n",
    "#### Embedding(input_dim,output_dim,mask_zero):\n",
    "\n",
    "-  input_dim :Size of the vocabulary, i.e. maximum integer index + 1.\n",
    "-  output_dim: Dimension of the dense embedding.\n",
    "- Boolean, whether or not the input value 0 is a special \"padding\" value that should be masked out. This is useful when using recurrent layers which may take variable length input. If this is True, then all subsequent layers in the model need to support masking or an exception will be raised. If mask_zero is set to True, as a consequence, index 0 cannot be used in the vocabulary (input_dim should equal size of vocabulary + 1)."
   ]
  },
  {
   "cell_type": "code",
   "execution_count": 23,
   "id": "e239a904",
   "metadata": {},
   "outputs": [],
   "source": [
    "model = tf.keras.Sequential([\n",
    "    encoder,\n",
    "    tf.keras.layers.Embedding(\n",
    "        input_dim = len(encoder.get_vocabulary()),\n",
    "        output_dim = 64,\n",
    "        # Use masking to handle the variable sequence lengths\n",
    "        mask_zero = True),\n",
    "        \n",
    "    tf.keras.layers.Bidirectional(tf.keras.layers.LSTM(64)),\n",
    "    tf.keras.layers.Dense(64,activation = 'relu'),\n",
    "        tf.keras.layers.Dense(1)\n",
    "        ])\n",
    "\n"
   ]
  },
  {
   "cell_type": "code",
   "execution_count": 24,
   "id": "227b6b7c",
   "metadata": {},
   "outputs": [],
   "source": [
    "model.compile(loss = tf.keras.losses.BinaryCrossentropy(from_logits = True),\n",
    "             optimizer = tf.keras.optimizers.Adam(1e-4),\n",
    "             metrics = ['accuracy'])\n"
   ]
  },
  {
   "cell_type": "markdown",
   "id": "18802800",
   "metadata": {},
   "source": [
    "## Train model"
   ]
  },
  {
   "cell_type": "code",
   "execution_count": 25,
   "id": "9e0cf48f",
   "metadata": {},
   "outputs": [
    {
     "name": "stdout",
     "output_type": "stream",
     "text": [
      "Epoch 1/10\n",
      "391/391 [==============================] - 29s 54ms/step - loss: 0.6483 - accuracy: 0.5662 - val_loss: 0.4536 - val_accuracy: 0.8010\n",
      "Epoch 2/10\n",
      "391/391 [==============================] - 19s 49ms/step - loss: 0.3856 - accuracy: 0.8257 - val_loss: 0.3554 - val_accuracy: 0.8307\n",
      "Epoch 3/10\n",
      "391/391 [==============================] - 19s 50ms/step - loss: 0.3333 - accuracy: 0.8531 - val_loss: 0.3387 - val_accuracy: 0.8396\n",
      "Epoch 4/10\n",
      "391/391 [==============================] - 20s 50ms/step - loss: 0.3189 - accuracy: 0.8604 - val_loss: 0.3373 - val_accuracy: 0.8562\n",
      "Epoch 5/10\n",
      "391/391 [==============================] - 20s 50ms/step - loss: 0.3119 - accuracy: 0.8665 - val_loss: 0.3215 - val_accuracy: 0.8562\n",
      "Epoch 6/10\n",
      "391/391 [==============================] - 19s 50ms/step - loss: 0.3083 - accuracy: 0.8664 - val_loss: 0.3409 - val_accuracy: 0.8422\n",
      "Epoch 7/10\n",
      "391/391 [==============================] - 20s 50ms/step - loss: 0.3064 - accuracy: 0.8681 - val_loss: 0.3216 - val_accuracy: 0.8573\n",
      "Epoch 8/10\n",
      "391/391 [==============================] - 20s 50ms/step - loss: 0.3061 - accuracy: 0.8681 - val_loss: 0.3341 - val_accuracy: 0.8609\n",
      "Epoch 9/10\n",
      "391/391 [==============================] - 20s 50ms/step - loss: 0.3018 - accuracy: 0.8684 - val_loss: 0.3196 - val_accuracy: 0.8568\n",
      "Epoch 10/10\n",
      "391/391 [==============================] - 20s 50ms/step - loss: 0.2984 - accuracy: 0.8719 - val_loss: 0.3212 - val_accuracy: 0.8479\n"
     ]
    }
   ],
   "source": [
    "history = model.fit(train_dataset,epochs = 10,\n",
    "                   validation_data = test_dataset,\n",
    "                   validation_steps = 30)"
   ]
  },
  {
   "cell_type": "code",
   "execution_count": 27,
   "id": "04ac8a57",
   "metadata": {},
   "outputs": [
    {
     "name": "stdout",
     "output_type": "stream",
     "text": [
      "391/391 [==============================] - 8s 21ms/step - loss: 0.3179 - accuracy: 0.8531\n",
      "Test Loss: 0.3178793489933014\n",
      "Test Accuracy: 0.8531200289726257\n"
     ]
    }
   ],
   "source": [
    "test_loss, test_acc = model.evaluate(test_dataset)\n",
    "\n",
    "print('Test Loss:', test_loss)\n",
    "print('Test Accuracy:', test_acc)"
   ]
  },
  {
   "cell_type": "code",
   "execution_count": 28,
   "id": "cba24332",
   "metadata": {},
   "outputs": [
    {
     "data": {
      "text/plain": [
       "(0.0, 0.665833979845047)"
      ]
     },
     "execution_count": 28,
     "metadata": {},
     "output_type": "execute_result"
    },
    {
     "data": {
      "image/png": "[encoded data removed]",
      "text/plain": [
       "<Figure size 1152x576 with 2 Axes>"
      ]
     },
     "metadata": {
      "needs_background": "light"
     },
     "output_type": "display_data"
    }
   ],
   "source": [
    "plt.figure(figsize = (16,8))\n",
    "plt.subplot(1,2,1)\n",
    "plot_graphs(history,'accuracy')\n",
    "plt.ylim(None,1)\n",
    "plt.subplot(1,2,2)\n",
    "plot_graphs(history,'loss')\n",
    "plt.ylim(0,None)"
   ]
  },
  {
   "cell_type": "markdown",
   "id": "ba212f18",
   "metadata": {},
   "source": [
    "## Prediction"
   ]
  },
  {
   "cell_type": "code",
   "execution_count": 35,
   "id": "631bdd47",
   "metadata": {},
   "outputs": [
    {
     "name": "stdout",
     "output_type": "stream",
     "text": [
      "1/1 [==============================] - 0s 16ms/step\n"
     ]
    }
   ],
   "source": [
    "sample_text = ('The movie was cool. The animation and the graphics were out of this world.'\n",
    "               'I would recommend this movie.')\n",
    "predictions = model.predict(np.array([sample_text]))"
   ]
  },
  {
   "cell_type": "code",
   "execution_count": 40,
   "id": "9d84c846",
   "metadata": {},
   "outputs": [
    {
     "name": "stdout",
     "output_type": "stream",
     "text": [
      "Prediction result: 0.5673633813858032\n"
     ]
    }
   ],
   "source": [
    "print(\"Prediction result:\",float(predictions[0]))\n"
   ]
  },
  {
   "cell_type": "markdown",
   "id": "f1527819",
   "metadata": {},
   "source": [
    "## Stacked LSTM layers\n",
    "\n",
    "- return_sequences = True: full sequences of successive outputs for each timestep is returned (a 3D tensor of shape (batch_size, timesteps, output_features))\n",
    "- return_sequences = False: returns only the last output for each input sequence (a 2D tensor of shape (batch_size, output_features))"
   ]
  },
  {
   "cell_type": "code",
   "execution_count": 42,
   "id": "20d8b8cd",
   "metadata": {},
   "outputs": [],
   "source": [
    "model = tf.keras.Sequential([\n",
    "    encoder,\n",
    "    tf.keras.layers.Embedding(len(encoder.get_vocabulary()), 64, mask_zero = True),\n",
    "    tf.keras.layers.Bidirectional(tf.keras.layers.LSTM(64,return_sequences = True)),\n",
    "    tf.keras.layers.Bidirectional(tf.keras.layers.LSTM(32)),\n",
    "    tf.keras.layers.Dense(64,activation = 'relu'),\n",
    "    tf.keras.layers.Dropout(0.5),\n",
    "    tf.keras.layers.Dense(1)\n",
    "    \n",
    "])\n",
    "\n"
   ]
  },
  {
   "cell_type": "code",
   "execution_count": 43,
   "id": "7a3c7adc",
   "metadata": {},
   "outputs": [],
   "source": [
    "model.compile(loss = tf.keras.losses.BinaryCrossentropy(from_logits = True),\n",
    "             optimizer = tf.keras.optimizers.Adam(1e-4),\n",
    "             metrics = ['accuracy'])"
   ]
  },
  {
   "cell_type": "code",
   "execution_count": 44,
   "id": "8fb2b247",
   "metadata": {},
   "outputs": [
    {
     "name": "stdout",
     "output_type": "stream",
     "text": [
      "Epoch 1/10\n",
      "391/391 [==============================] - 49s 100ms/step - loss: 0.6202 - accuracy: 0.5864 - val_loss: 0.4278 - val_accuracy: 0.8188\n",
      "Epoch 2/10\n",
      "391/391 [==============================] - 36s 92ms/step - loss: 0.3831 - accuracy: 0.8314 - val_loss: 0.3697 - val_accuracy: 0.8276\n",
      "Epoch 3/10\n",
      "391/391 [==============================] - 36s 92ms/step - loss: 0.3370 - accuracy: 0.8544 - val_loss: 0.3315 - val_accuracy: 0.8521\n",
      "Epoch 4/10\n",
      "391/391 [==============================] - 36s 92ms/step - loss: 0.3214 - accuracy: 0.8620 - val_loss: 0.3287 - val_accuracy: 0.8536\n",
      "Epoch 5/10\n",
      "391/391 [==============================] - 36s 92ms/step - loss: 0.3097 - accuracy: 0.8680 - val_loss: 0.3265 - val_accuracy: 0.8453\n",
      "Epoch 6/10\n",
      "391/391 [==============================] - 36s 92ms/step - loss: 0.3074 - accuracy: 0.8672 - val_loss: 0.3231 - val_accuracy: 0.8505\n",
      "Epoch 7/10\n",
      "391/391 [==============================] - 36s 92ms/step - loss: 0.3038 - accuracy: 0.8703 - val_loss: 0.3250 - val_accuracy: 0.8609\n",
      "Epoch 8/10\n",
      "391/391 [==============================] - 36s 92ms/step - loss: 0.3014 - accuracy: 0.8711 - val_loss: 0.3200 - val_accuracy: 0.8516\n",
      "Epoch 9/10\n",
      "391/391 [==============================] - 36s 91ms/step - loss: 0.2993 - accuracy: 0.8700 - val_loss: 0.3181 - val_accuracy: 0.8490\n",
      "Epoch 10/10\n",
      "391/391 [==============================] - 36s 92ms/step - loss: 0.2955 - accuracy: 0.8718 - val_loss: 0.3240 - val_accuracy: 0.8677\n"
     ]
    }
   ],
   "source": [
    "history = model.fit(train_dataset,epochs = 10,\n",
    "                   validation_data = test_dataset,\n",
    "                   validation_steps = 30)"
   ]
  },
  {
   "cell_type": "code",
   "execution_count": 45,
   "id": "b792d73f",
   "metadata": {},
   "outputs": [
    {
     "name": "stdout",
     "output_type": "stream",
     "text": [
      "391/391 [==============================] - 14s 36ms/step - loss: 0.3209 - accuracy: 0.8640\n",
      "Test Loss: 0.3208785057067871\n",
      "Test Accuracy: 0.8640000224113464\n"
     ]
    }
   ],
   "source": [
    "test_loss, test_acc = model.evaluate(test_dataset)\n",
    "\n",
    "print('Test Loss:', test_loss)\n",
    "print('Test Accuracy:', test_acc)\n",
    "\n"
   ]
  },
  {
   "cell_type": "code",
   "execution_count": 46,
   "id": "78ebc350",
   "metadata": {},
   "outputs": [
    {
     "name": "stdout",
     "output_type": "stream",
     "text": [
      "1/1 [==============================] - 4s 4s/step\n",
      "[[-1.5871828]]\n"
     ]
    }
   ],
   "source": [
    "# predict on a sample text without padding.\n",
    "\n",
    "sample_text = ('The movie was not good. The animation and the graphics '\n",
    "               'were terrible. I would not recommend this movie.')\n",
    "predictions = model.predict(np.array([sample_text]))\n",
    "print(predictions)"
   ]
  },
  {
   "cell_type": "code",
   "execution_count": 47,
   "id": "f9d629c5",
   "metadata": {},
   "outputs": [
    {
     "data": {
      "image/png": "[encoded data removed]",
      "text/plain": [
       "<Figure size 1152x432 with 2 Axes>"
      ]
     },
     "metadata": {
      "needs_background": "light"
     },
     "output_type": "display_data"
    }
   ],
   "source": [
    "plt.figure(figsize=(16, 6))\n",
    "plt.subplot(1, 2, 1)\n",
    "plot_graphs(history, 'accuracy')\n",
    "plt.subplot(1, 2, 2)\n",
    "plot_graphs(history, 'loss')"
   ]
  },
  {
   "cell_type": "code",
   "execution_count": null,
   "id": "a2c44628",
   "metadata": {},
   "outputs": [],
   "source": []
  }
 ],
 "metadata": {
  "kernelspec": {
   "display_name": "Python 3 (ipykernel)",
   "language": "python",
   "name": "python3"
  },
  "language_info": {
   "codemirror_mode": {
    "name": "ipython",
    "version": 3
   },
   "file_extension": ".py",
   "mimetype": "text/x-python",
   "name": "python",
   "nbconvert_exporter": "python",
   "pygments_lexer": "ipython3",
   "version": "3.8.5"
  }
 },
 "nbformat": 4,
 "nbformat_minor": 5
}
