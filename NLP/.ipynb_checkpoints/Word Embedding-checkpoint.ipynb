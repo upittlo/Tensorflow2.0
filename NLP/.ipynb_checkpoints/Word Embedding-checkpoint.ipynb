{
 "cells": [
  {
   "cell_type": "markdown",
   "id": "12fa97dd",
   "metadata": {},
   "source": [
    "#### Reference: https://www.tensorflow.org/text/guide/word_embeddings"
   ]
  },
  {
   "cell_type": "code",
   "execution_count": 26,
   "id": "c04539e8",
   "metadata": {},
   "outputs": [],
   "source": [
    "import io\n",
    "import os\n",
    "import re\n",
    "import shutil\n",
    "import string\n",
    "import tensorflow as tf\n",
    "\n",
    "from tensorflow.keras import Sequential\n",
    "from tensorflow.keras.layers import Dense, Embedding, GlobalAveragePooling1D\n",
    "from tensorflow.keras.layers import TextVectorization"
   ]
  },
  {
   "cell_type": "markdown",
   "id": "d8702d88",
   "metadata": {},
   "source": [
    "### Download dataset"
   ]
  },
  {
   "cell_type": "code",
   "execution_count": 2,
   "id": "ba63fe3b",
   "metadata": {},
   "outputs": [
    {
     "name": "stdout",
     "output_type": "stream",
     "text": [
      "Downloading data from https://ai.stanford.edu/~amaas/data/sentiment/aclImdb_v1.tar.gz\n",
      "84125825/84125825 [==============================] - 13s 0us/step\n"
     ]
    },
    {
     "data": {
      "text/plain": [
       "['imdb.vocab', 'imdbEr.txt', 'README', 'test', 'train']"
      ]
     },
     "execution_count": 2,
     "metadata": {},
     "output_type": "execute_result"
    }
   ],
   "source": [
    "url = \"https://ai.stanford.edu/~amaas/data/sentiment/aclImdb_v1.tar.gz\"\n",
    "\n",
    "dataset = tf.keras.utils.get_file(\"aclImdb_v1.tar.gz\", url,\n",
    "                                  untar=True, cache_dir='.',\n",
    "                                  cache_subdir='')\n",
    "\n",
    "dataset_dir = os.path.join(os.path.dirname(dataset), 'aclImdb')\n",
    "os.listdir(dataset_dir)"
   ]
  },
  {
   "cell_type": "code",
   "execution_count": 5,
   "id": "1e1c35f3",
   "metadata": {},
   "outputs": [],
   "source": [
    "train_dir = os.path.join(dataset_dir,'train')\n",
    "os.listdir(train_dir)\n",
    "\n",
    "remove_dir = os.path.join(train_dir, 'unsup')\n",
    "shutil.rmtree(remove_dir)"
   ]
  },
  {
   "cell_type": "markdown",
   "id": "1c247b9c",
   "metadata": {},
   "source": [
    "### Create tf dataset\n",
    "\n",
    "- subset可將資料切成train ,val (使用相同seed且validation_split存在)\n",
    "\n",
    "- cache: keeps data in memory after it's loaded off disk\n",
    "- prefetch:overlaps data preprocessing and model execution while training."
   ]
  },
  {
   "cell_type": "code",
   "execution_count": 7,
   "id": "c0bda41c",
   "metadata": {},
   "outputs": [
    {
     "name": "stdout",
     "output_type": "stream",
     "text": [
      "Found 25000 files belonging to 2 classes.\n",
      "Using 20000 files for training.\n",
      "Found 25000 files belonging to 2 classes.\n",
      "Using 5000 files for validation.\n"
     ]
    }
   ],
   "source": [
    "batch_size = 1024\n",
    "seed = 123\n",
    "\n",
    "train_ds = tf.keras.utils.text_dataset_from_directory(\n",
    "    'aclImdb/train', batch_size = batch_size,validation_split = 0.2,\n",
    "    subset = 'training', seed = seed)\n",
    "\n",
    "val_ds = tf.keras.utils.text_dataset_from_directory('aclImdb/train', batch_size=batch_size, validation_split=0.2,\n",
    "    subset='validation', seed=seed)"
   ]
  },
  {
   "cell_type": "code",
   "execution_count": 9,
   "id": "fcf85786",
   "metadata": {},
   "outputs": [],
   "source": [
    "AUTOTUNE = tf.data.AUTOTUNE\n",
    "\n",
    "train_ds = train_ds.cache().prefetch(buffer_size = AUTOTUNE)\n",
    "val_ds = val_ds.cache().prefetch(buffer_size = AUTOTUNE)\n",
    "\n"
   ]
  },
  {
   "cell_type": "markdown",
   "id": "916e6aee",
   "metadata": {},
   "source": [
    "### Using embedding layer\n",
    "\n",
    "- TextVectorization: text cleaning and preprocessing defined function, split sentences and covert to int\n",
    "- tf.keras.layers.Embedding (vocabulary_size, embedding_dimension)\n",
    "- embedding layer input: (batch_size,sequence_length)\n",
    "- embedding output: (batchs,sequence_length,embedding_dimensionality)"
   ]
  },
  {
   "cell_type": "code",
   "execution_count": 10,
   "id": "9058faf8",
   "metadata": {},
   "outputs": [],
   "source": [
    "# Create a custom standardization function to strip HTML break tags '<br />'.\n",
    "\n",
    "def custom_standardization(input_data):\n",
    "    lowercase = tf.strings.lower(input_data)\n",
    "    stripped_html = tf.strings.regex_replace(lowercase,'<br />',' ')\n",
    "    return tf.strings.regex_replace(stripped_html,\n",
    "                                   '[%s]' % re.escape(string.punctuation),'')\n",
    "\n",
    "\n",
    "vocab_size = 10000\n",
    "sequence_length = 100\n",
    "\n",
    "# Use the text vectorization layer to normalize, split, and map strings to\n",
    "# integers. Note that the layer uses the custom standardization defined above.\n",
    "# Set maximum_sequence length as all samples are not of the same length.\n",
    "\n",
    "vectorize_layer =  TextVectorization(\n",
    "    standardize = custom_standardization,\n",
    "    max_tokens = vocab_size,\n",
    "    output_mode = 'int',\n",
    "    output_sequence_length = sequence_length)\n",
    "\n",
    "# Make a text-only dataset (no labels) and call adapt to build the vocabulary.\n",
    "\n",
    "text_ds = train_ds.map(lambda x,y:x)\n",
    "vectorize_layer.adapt(text_ds)\n"
   ]
  },
  {
   "cell_type": "markdown",
   "id": "d4809d46",
   "metadata": {},
   "source": [
    "### Create model\n",
    "\n",
    "- The TextVectorization layer transforms strings into vocabulary indices. You have already initialized vectorize_layer as a TextVectorization layer and built its vocabulary by calling adapt on text_ds. Now vectorize_layer can be used as the first layer of your end-to-end classification model, feeding transformed strings into the Embedding layer.\n",
    "- The Embedding layer takes the integer-encoded vocabulary and looks up the embedding vector for each word-index. These vectors are learned as the model trains. The vectors add a dimension to the output array. The resulting dimensions are: (batch, sequence, embedding).\n",
    "\n",
    "- The GlobalAveragePooling1D layer returns a fixed-length output vector for each example by averaging over the sequence dimension. This allows the model to handle input of variable length, in the simplest way possible.\n",
    "\n",
    "- The fixed-length output vector is piped through a fully-connected (Dense) layer with 16 hidden units.\n",
    "\n",
    "- The last layer is densely connected with a single output node."
   ]
  },
  {
   "cell_type": "code",
   "execution_count": 16,
   "id": "48473740",
   "metadata": {},
   "outputs": [],
   "source": [
    "embedding_dim = 16\n",
    "\n",
    "model = Sequential([\n",
    "        vectorize_layer,\n",
    "        Embedding(vocab_size,embedding_dim,name = 'embedding'),\n",
    "        GlobalAveragePooling1D(),\n",
    "        Dense(16,activation = 'relu'),\n",
    "        Dense(1)\n",
    "])"
   ]
  },
  {
   "cell_type": "markdown",
   "id": "888989f7",
   "metadata": {},
   "source": [
    "### Compile and traing model"
   ]
  },
  {
   "cell_type": "code",
   "execution_count": 17,
   "id": "9d39b6af",
   "metadata": {},
   "outputs": [],
   "source": [
    "model.compile(optimizer = 'adam',\n",
    "             loss = tf.keras.losses.BinaryCrossentropy(from_logits = True),\n",
    "             metrics = ['accuracy'])"
   ]
  },
  {
   "cell_type": "code",
   "execution_count": 18,
   "id": "6fdb7ac4",
   "metadata": {},
   "outputs": [
    {
     "name": "stdout",
     "output_type": "stream",
     "text": [
      "Epoch 1/15\n",
      "20/20 [==============================] - 6s 241ms/step - loss: 0.6923 - accuracy: 0.5028 - val_loss: 0.6910 - val_accuracy: 0.4886\n",
      "Epoch 2/15\n",
      "20/20 [==============================] - 2s 85ms/step - loss: 0.6886 - accuracy: 0.5028 - val_loss: 0.6863 - val_accuracy: 0.4886\n",
      "Epoch 3/15\n",
      "20/20 [==============================] - 2s 85ms/step - loss: 0.6817 - accuracy: 0.5028 - val_loss: 0.6780 - val_accuracy: 0.4886\n",
      "Epoch 4/15\n",
      "20/20 [==============================] - 2s 87ms/step - loss: 0.6702 - accuracy: 0.5028 - val_loss: 0.6648 - val_accuracy: 0.4886\n",
      "Epoch 5/15\n",
      "20/20 [==============================] - 2s 86ms/step - loss: 0.6533 - accuracy: 0.5028 - val_loss: 0.6467 - val_accuracy: 0.4886\n",
      "Epoch 6/15\n",
      "20/20 [==============================] - 2s 84ms/step - loss: 0.6308 - accuracy: 0.5028 - val_loss: 0.6237 - val_accuracy: 0.4886\n",
      "Epoch 7/15\n",
      "20/20 [==============================] - 2s 85ms/step - loss: 0.6033 - accuracy: 0.5068 - val_loss: 0.5970 - val_accuracy: 0.5180\n",
      "Epoch 8/15\n",
      "20/20 [==============================] - 2s 82ms/step - loss: 0.5718 - accuracy: 0.5974 - val_loss: 0.5681 - val_accuracy: 0.6154\n",
      "Epoch 9/15\n",
      "20/20 [==============================] - 2s 83ms/step - loss: 0.5383 - accuracy: 0.6777 - val_loss: 0.5391 - val_accuracy: 0.6698\n",
      "Epoch 10/15\n",
      "20/20 [==============================] - 2s 86ms/step - loss: 0.5050 - accuracy: 0.7301 - val_loss: 0.5118 - val_accuracy: 0.7058\n",
      "Epoch 11/15\n",
      "20/20 [==============================] - 2s 83ms/step - loss: 0.4734 - accuracy: 0.7652 - val_loss: 0.4873 - val_accuracy: 0.7366\n",
      "Epoch 12/15\n",
      "20/20 [==============================] - 2s 83ms/step - loss: 0.4446 - accuracy: 0.7897 - val_loss: 0.4661 - val_accuracy: 0.7536\n",
      "Epoch 13/15\n",
      "20/20 [==============================] - 2s 82ms/step - loss: 0.4188 - accuracy: 0.8100 - val_loss: 0.4483 - val_accuracy: 0.7638\n",
      "Epoch 14/15\n",
      "20/20 [==============================] - 2s 82ms/step - loss: 0.3959 - accuracy: 0.8243 - val_loss: 0.4335 - val_accuracy: 0.7746\n",
      "Epoch 15/15\n",
      "20/20 [==============================] - 2s 82ms/step - loss: 0.3756 - accuracy: 0.8368 - val_loss: 0.4213 - val_accuracy: 0.7854\n"
     ]
    },
    {
     "data": {
      "text/plain": [
       "<keras.callbacks.History at 0x1c7809cb640>"
      ]
     },
     "execution_count": 18,
     "metadata": {},
     "output_type": "execute_result"
    }
   ],
   "source": [
    "model.fit(\n",
    "    train_ds,\n",
    "validation_data = val_ds,\n",
    "epochs = 15)"
   ]
  },
  {
   "cell_type": "code",
   "execution_count": 19,
   "id": "dca9f008",
   "metadata": {},
   "outputs": [
    {
     "name": "stdout",
     "output_type": "stream",
     "text": [
      "Model: \"sequential\"\n",
      "_________________________________________________________________\n",
      " Layer (type)                Output Shape              Param #   \n",
      "=================================================================\n",
      " text_vectorization (TextVec  (None, 100)              0         \n",
      " torization)                                                     \n",
      "                                                                 \n",
      " embedding (Embedding)       (None, 100, 16)           160000    \n",
      "                                                                 \n",
      " global_average_pooling1d (G  (None, 16)               0         \n",
      " lobalAveragePooling1D)                                          \n",
      "                                                                 \n",
      " dense (Dense)               (None, 16)                272       \n",
      "                                                                 \n",
      " dense_1 (Dense)             (None, 1)                 17        \n",
      "                                                                 \n",
      "=================================================================\n",
      "Total params: 160,289\n",
      "Trainable params: 160,289\n",
      "Non-trainable params: 0\n",
      "_________________________________________________________________\n"
     ]
    }
   ],
   "source": [
    "model.summary()"
   ]
  },
  {
   "cell_type": "markdown",
   "id": "4451c14c",
   "metadata": {},
   "source": [
    "### Retrieve the trained word embeddings and save them to disk\n",
    "\n",
    "- Obtain the weights from the model using get_layer() and get_weights(). The get_vocabulary() function provides the vocabulary to build a metadata file with one token per line."
   ]
  },
  {
   "cell_type": "code",
   "execution_count": 20,
   "id": "5e7c0292",
   "metadata": {},
   "outputs": [],
   "source": [
    "weights = model.get_layer('embedding').get_weights()[0]\n",
    "vocab = vectorize_layer.get_vocabulary()\n"
   ]
  },
  {
   "cell_type": "code",
   "execution_count": 27,
   "id": "b570a31f",
   "metadata": {},
   "outputs": [],
   "source": [
    "out_v = io.open('vectors.tsv', 'w', encoding='utf-8')\n",
    "out_m = io.open('metadata.tsv', 'w', encoding='utf-8')\n",
    "\n",
    "for index,word in enumerate(vocab):\n",
    "    \n",
    "    if index == 0:\n",
    "        continue\n",
    "    vec = weights[index]\n",
    "    out_v.write('\\t'.join([str(x) for x in vec])+\"\\n\")\n",
    "    out_m.write(word+\"\\n\")\n",
    "out_v.close()\n",
    "out_m.close()\n"
   ]
  },
  {
   "cell_type": "code",
   "execution_count": null,
   "id": "e08b7f00",
   "metadata": {},
   "outputs": [],
   "source": []
  }
 ],
 "metadata": {
  "kernelspec": {
   "display_name": "Python 3 (ipykernel)",
   "language": "python",
   "name": "python3"
  },
  "language_info": {
   "codemirror_mode": {
    "name": "ipython",
    "version": 3
   },
   "file_extension": ".py",
   "mimetype": "text/x-python",
   "name": "python",
   "nbconvert_exporter": "python",
   "pygments_lexer": "ipython3",
   "version": "3.8.5"
  }
 },
 "nbformat": 4,
 "nbformat_minor": 5
}
