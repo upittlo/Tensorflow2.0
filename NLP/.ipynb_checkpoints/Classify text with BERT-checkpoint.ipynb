{
 "cells": [
  {
   "cell_type": "markdown",
   "id": "b8b66cb7",
   "metadata": {},
   "source": [
    "#### Reference: https://www.tensorflow.org/text/tutorials/classify_text_with_bert\n",
    "\n",
    "- Load the IMDB dataset\n",
    "- Load a BERT model from TensorFlow Hub\n",
    "- Build your own model by combining BERT with a classifier\n",
    "- Train your own model, fine-tuning BERT as part of that\n",
    "- Save your model and use it to classify sentences"
   ]
  },
  {
   "cell_type": "code",
   "execution_count": 1,
   "id": "04a2f4e8",
   "metadata": {},
   "outputs": [],
   "source": [
    "import os\n",
    "import shutil\n",
    "\n",
    "import tensorflow as tf\n",
    "import tensorflow_hub as hub\n",
    "import tensorflow_text as text\n",
    "from official.nlp import optimization\n",
    "\n",
    "import matplotlib.pyplot as plt\n",
    "\n",
    "tf.get_logger().setLevel('ERROR')"
   ]
  },
  {
   "cell_type": "code",
   "execution_count": 2,
   "id": "73221e0a",
   "metadata": {},
   "outputs": [
    {
     "name": "stdout",
     "output_type": "stream",
     "text": [
      "Tensorflow version: 2.8.0\n",
      "Hub version: 0.12.0\n",
      "text version: 2.8.2\n"
     ]
    }
   ],
   "source": [
    "print(\"Tensorflow version:\", tf.__version__)\n",
    "print(\"Hub version:\", hub.__version__)\n",
    "print(\"text version:\", text.__version__)"
   ]
  },
  {
   "cell_type": "markdown",
   "id": "17c7ce5a",
   "metadata": {},
   "source": [
    "### 1. Download dataset"
   ]
  },
  {
   "cell_type": "code",
   "execution_count": 3,
   "id": "4beded50",
   "metadata": {},
   "outputs": [],
   "source": [
    "url = 'https://ai.stanford.edu/~amaas/data/sentiment/aclImdb_v1.tar.gz'\n",
    "\n",
    "dataset = tf.keras.utils.get_file('aclImdb_v1.tar.gz', url,\n",
    "                                  untar=True, cache_dir='.',\n",
    "                                  cache_subdir='')\n",
    "\n",
    "dataset_dir = os.path.join(os.path.dirname(dataset),'aclImdb')\n",
    "\n",
    "train_dir = os.path.join(dataset_dir,'train')\n",
    "\n",
    "\n",
    "# remove unused folders to make it easier to load the data\n",
    "remove_dir = os.path.join(train_dir, 'unsup')\n",
    "shutil.rmtree(remove_dir)"
   ]
  },
  {
   "cell_type": "markdown",
   "id": "c1cfdc24",
   "metadata": {},
   "source": [
    "- Note: When using the validation_split and subset arguments, make sure to either specify a random seed, or to pass shuffle=False, so that the validation and training splits have no overlap.\n",
    "\n",
    "- 可以簡單的使用 AUTOTUNE 找到 prefetching 的最佳參數："
   ]
  },
  {
   "cell_type": "code",
   "execution_count": 4,
   "id": "967bc76f",
   "metadata": {},
   "outputs": [
    {
     "name": "stdout",
     "output_type": "stream",
     "text": [
      "Found 25000 files belonging to 2 classes.\n",
      "Using 20000 files for training.\n",
      "Found 25000 files belonging to 2 classes.\n",
      "Using 5000 files for validation.\n",
      "Found 25000 files belonging to 2 classes.\n"
     ]
    }
   ],
   "source": [
    "AUTOTUNE = tf.data.AUTOTUNE\n",
    "batch_size = 32\n",
    "seed  =42\n",
    "\n",
    "raw_train_ds = tf.keras.utils.text_dataset_from_directory(\n",
    "            'aclImdb/train',\n",
    "             batch_size = batch_size,\n",
    "             validation_split = 0.2,\n",
    "             subset = 'training',\n",
    "             seed =seed)\n",
    "\n",
    "class_names = raw_train_ds.class_names\n",
    "\n",
    "train_ds = raw_train_ds.cache().prefetch(buffer_size = AUTOTUNE)\n",
    "\n",
    "val_ds = tf.keras.utils.text_dataset_from_directory(\n",
    "    'aclImdb/train',\n",
    "    batch_size=batch_size,\n",
    "    validation_split=0.2,\n",
    "    subset='validation',\n",
    "    seed=seed)\n",
    "\n",
    "val_ds = val_ds.cache().prefetch(buffer_size = AUTOTUNE)\n",
    "\n",
    "test_ds = tf.keras.utils.text_dataset_from_directory(\n",
    "        'aclImdb/test',\n",
    "    batch_size=batch_size)\n",
    "\n",
    "test_ds = test_ds.cache().prefetch(buffer_size = AUTOTUNE)\n"
   ]
  },
  {
   "cell_type": "code",
   "execution_count": 5,
   "id": "da4ab979",
   "metadata": {},
   "outputs": [
    {
     "name": "stdout",
     "output_type": "stream",
     "text": [
      "Review: b'\"Pandemonium\" is a horror movie spoof that comes off more stupid than funny. Believe me when I tell you, I love comedies. Especially comedy spoofs. \"Airplane\", \"The Naked Gun\" trilogy, \"Blazing Saddles\", \"High Anxiety\", and \"Spaceballs\" are some of my favorite comedies that spoof a particular genre. \"Pandemonium\" is not up there with those films. Most of the scenes in this movie had me sitting there in stunned silence because the movie wasn\\'t all that funny. There are a few laughs in the film, but when you watch a comedy, you expect to laugh a lot more than a few times and that\\'s all this film has going for it. Geez, \"Scream\" had more laughs than this film and that was more of a horror film. How bizarre is that?<br /><br />*1/2 (out of four)'\n",
      "Label : 0 (neg)\n",
      "Review: b\"David Mamet is a very interesting and a very un-equal director. His first movie 'House of Games' was the one I liked best, and it set a series of films with characters whose perspective of life changes as they get into complicated situations, and so does the perspective of the viewer.<br /><br />So is 'Homicide' which from the title tries to set the mind of the viewer to the usual crime drama. The principal characters are two cops, one Jewish and one Irish who deal with a racially charged area. The murder of an old Jewish shop owner who proves to be an ancient veteran of the Israeli Independence war triggers the Jewish identity in the mind and heart of the Jewish detective.<br /><br />This is were the flaws of the film are the more obvious. The process of awakening is theatrical and hard to believe, the group of Jewish militants is operatic, and the way the detective eventually walks to the final violent confrontation is pathetic. The end of the film itself is Mamet-like smart, but disappoints from a human emotional perspective.<br /><br />Joe Mantegna and William Macy give strong performances, but the flaws of the story are too evident to be easily compensated.\"\n",
      "Label : 0 (neg)\n",
      "Review: b'Great documentary about the lives of NY firefighters during the worst terrorist attack of all time.. That reason alone is why this should be a must see collectors item.. What shocked me was not only the attacks, but the\"High Fat Diet\" and physical appearance of some of these firefighters. I think a lot of Doctors would agree with me that,in the physical shape they were in, some of these firefighters would NOT of made it to the 79th floor carrying over 60 lbs of gear. Having said that i now have a greater respect for firefighters and i realize becoming a firefighter is a life altering job. The French have a history of making great documentary\\'s and that is what this is, a Great Documentary.....'\n",
      "Label : 1 (pos)\n"
     ]
    }
   ],
   "source": [
    "### Check data example\n",
    "\n",
    "for text_batch,label_batch in train_ds.take(1):\n",
    "    for i in range(3):\n",
    "        print(f'Review: {text_batch.numpy()[i]}')\n",
    "        label = label_batch.numpy()[i]\n",
    "        print(f'Label : {label} ({class_names[label]})')\n",
    "    "
   ]
  },
  {
   "cell_type": "markdown",
   "id": "4bfc2dbf",
   "metadata": {},
   "source": [
    "## 2. Load model from tensorlow hub\n",
    "\n",
    "- Choose a BERT model: https://tfhub.dev/google/collections/transformer_encoders_text/1\n",
    "\n",
    "\n",
    "#### Model use in this example\n",
    "\n",
    "- BERT model selected           : https://tfhub.dev/tensorflow/small_bert/bert_en_uncased_L-4_H-512_A-8/1\n",
    "\n",
    "- Preprocess model auto-selected: https://tfhub.dev/tensorflow/bert_en_uncased_preprocess/3"
   ]
  },
  {
   "cell_type": "code",
   "execution_count": 6,
   "id": "b238237e",
   "metadata": {},
   "outputs": [
    {
     "name": "stdout",
     "output_type": "stream",
     "text": [
      "BERT model selected                : https://tfhub.dev/tensorflow/small_bert/bert_en_uncased_L-4_H-512_A-8/1\n",
      "Preprocess model auto-selected     : https://tfhub.dev/tensorflow/bert_en_uncased_preprocess/3\n"
     ]
    }
   ],
   "source": [
    "tfhub_handle_encoder = 'https://tfhub.dev/tensorflow/small_bert/bert_en_uncased_L-4_H-512_A-8/1'\n",
    "tfhub_handle_preprocess = 'https://tfhub.dev/tensorflow/bert_en_uncased_preprocess/3'\n",
    "\n",
    "print(f'BERT model selected                : {tfhub_handle_encoder}')\n",
    "print(f'Preprocess model auto-selected     : {tfhub_handle_preprocess}')"
   ]
  },
  {
   "cell_type": "markdown",
   "id": "c471c7d9",
   "metadata": {},
   "source": [
    "### 2-1. BERT preprocessing\n",
    "\n",
    "- Each BERT model has a unique preprocessing model\n",
    "\n",
    "- Preprocessing output: (input_words_id, input_mask and input_type_ids)\n",
    "- The input_type_ids only have one value (0) because this is a single sentence input. For a multiple sentence input, it would have one number for each input."
   ]
  },
  {
   "cell_type": "code",
   "execution_count": 7,
   "id": "af701a7b",
   "metadata": {},
   "outputs": [],
   "source": [
    "bert_preprocess_model = hub.KerasLayer(tfhub_handle_preprocess)"
   ]
  },
  {
   "cell_type": "code",
   "execution_count": 8,
   "id": "0ddd06b4",
   "metadata": {},
   "outputs": [
    {
     "name": "stdout",
     "output_type": "stream",
     "text": [
      "Keys       : ['input_word_ids', 'input_mask', 'input_type_ids']\n",
      "Shape      : (1, 128)\n",
      "Word Ids   : [ 101 2023 2003 2107 2019 6429 3185  999  102    0    0    0]\n",
      "Input Mask : [1 1 1 1 1 1 1 1 1 0 0 0]\n",
      "Type Ids   : [0 0 0 0 0 0 0 0 0 0 0 0]\n"
     ]
    }
   ],
   "source": [
    "### preprocessing sample test\n",
    "\n",
    "text_test = ['this is such an amazing movie!']\n",
    "text_preprocessed = bert_preprocess_model(text_test)\n",
    "\n",
    "print(f'Keys       : {list(text_preprocessed.keys())}')\n",
    "print(f'Shape      : {text_preprocessed[\"input_word_ids\"].shape}')\n",
    "print(f'Word Ids   : {text_preprocessed[\"input_word_ids\"][0, :12]}')\n",
    "print(f'Input Mask : {text_preprocessed[\"input_mask\"][0, :12]}')\n",
    "print(f'Type Ids   : {text_preprocessed[\"input_type_ids\"][0, :12]}')"
   ]
  },
  {
   "cell_type": "markdown",
   "id": "d4ae3ecf",
   "metadata": {},
   "source": [
    "### 2-2. BERT model\n",
    "\n",
    "- BERT output: (pooled_output, sequence_output, encoder_outputs)\n",
    "- pooled_output represents each input sequence as a whole. The shape is [batch_size, H]. You can    think of this as an embedding for the entire movie review. >>> [CLS]\n",
    "- sequence_output represents each input token in the context. The shape is [batch_size, seq_length, H]. You can think of this as a contextual embedding for every token in the movie review.\n",
    "- encoder_outputs are the intermediate activations of the L Transformer blocks. outputs[\"encoder_outputs\"][i] is a Tensor of shape [batch_size, seq_length, 1024] with the outputs of the i-th Transformer block, for 0 <= i < L. The last value of the list is equal to sequence_output.\n",
    "\n",
    "- For the fine-tuning you are going to use the pooled_output array."
   ]
  },
  {
   "cell_type": "code",
   "execution_count": 9,
   "id": "3fd772c5",
   "metadata": {},
   "outputs": [
    {
     "name": "stdout",
     "output_type": "stream",
     "text": [
      "Loaded BERT: https://tfhub.dev/tensorflow/small_bert/bert_en_uncased_L-4_H-512_A-8/1\n",
      "Pooled Outputs Shape:(1, 512)\n",
      "Pooled Outputs Values:[ 0.76262903  0.99280983 -0.18611847  0.3667386   0.15233745  0.6550445\n",
      "  0.9681154  -0.94862705  0.00216164 -0.9877732   0.0684273  -0.97630596]\n",
      "Sequence Outputs Shape:(1, 128, 512)\n",
      "Sequence Outputs Values:[[-0.28946295  0.34321263  0.33231527 ...  0.2130087   0.71020836\n",
      "  -0.05771071]\n",
      " [-0.2874208   0.31981027 -0.23018518 ...  0.5845508  -0.21329744\n",
      "   0.7269212 ]\n",
      " [-0.66157013  0.6887687  -0.8743292  ...  0.10877226 -0.26173285\n",
      "   0.47855547]\n",
      " ...\n",
      " [-0.22561097 -0.2892568  -0.07064426 ...  0.47566074  0.83277184\n",
      "   0.40025318]\n",
      " [-0.29824227 -0.27473107 -0.05450526 ...  0.488498    1.0955358\n",
      "   0.18163362]\n",
      " [-0.4437815   0.00930744  0.07223801 ...  0.17290124  1.1833242\n",
      "   0.07898009]]\n"
     ]
    }
   ],
   "source": [
    "bert_model = hub.KerasLayer(tfhub_handle_encoder)\n",
    "\n",
    "bert_results = bert_model(text_preprocessed)\n",
    "\n",
    "print(f'Loaded BERT: {tfhub_handle_encoder}')\n",
    "print(f'Pooled Outputs Shape:{bert_results[\"pooled_output\"].shape}')\n",
    "print(f'Pooled Outputs Values:{bert_results[\"pooled_output\"][0, :12]}')\n",
    "print(f'Sequence Outputs Shape:{bert_results[\"sequence_output\"].shape}')\n",
    "print(f'Sequence Outputs Values:{bert_results[\"sequence_output\"][0, :12]}')"
   ]
  },
  {
   "cell_type": "markdown",
   "id": "9b01ef9e",
   "metadata": {},
   "source": [
    "### 3. Define Model\n",
    "\n",
    "- BERT output 取用[CLS]: ['pooled_output']\n"
   ]
  },
  {
   "cell_type": "code",
   "execution_count": 10,
   "id": "3d3dfce4",
   "metadata": {},
   "outputs": [],
   "source": [
    "def build_classifier_model():\n",
    "    text_input = tf.keras.layers.Input(shape = (),dtype = tf.string,name = 'text')\n",
    "    preprocessing_layer = hub.KerasLayer(tfhub_handle_preprocess,name=  'preprocessing')\n",
    "    encoder_inputs = preprocessing_layer(text_input)\n",
    "    encoder = hub.KerasLayer(tfhub_handle_encoder,trainable = True,name = 'BERT-encoder')\n",
    "    outputs = encoder(encoder_inputs)\n",
    "    net = outputs['pooled_output']\n",
    "    net = tf.keras.layers.Dropout(0.1)(net)\n",
    "    net = tf.keras.layers.Dense(1,activation = None,name= 'classifier')(net)\n",
    "    \n",
    "    return tf.keras.Model(text_input,net)\n",
    "\n",
    "\n",
    "    "
   ]
  },
  {
   "cell_type": "markdown",
   "id": "591f8750",
   "metadata": {},
   "source": [
    "#### Check the model pipeline"
   ]
  },
  {
   "cell_type": "code",
   "execution_count": 11,
   "id": "772a0d98",
   "metadata": {},
   "outputs": [
    {
     "name": "stdout",
     "output_type": "stream",
     "text": [
      "tf.Tensor([[0.52456105]], shape=(1, 1), dtype=float32)\n"
     ]
    }
   ],
   "source": [
    "classifier_model = build_classifier_model()\n",
    "bert_raw_result = classifier_model(tf.constant(text_test))\n",
    "print(tf.sigmoid(bert_raw_result))"
   ]
  },
  {
   "cell_type": "code",
   "execution_count": 12,
   "id": "8e2f5eed",
   "metadata": {},
   "outputs": [
    {
     "data": {
      "image/png": "[encoded data removed]",
      "text/plain": [
       "<IPython.core.display.Image object>"
      ]
     },
     "execution_count": 12,
     "metadata": {},
     "output_type": "execute_result"
    }
   ],
   "source": [
    "tf.keras.utils.plot_model(classifier_model)"
   ]
  },
  {
   "cell_type": "markdown",
   "id": "f62d9644",
   "metadata": {},
   "source": [
    "### 4. Model training\n",
    "\n",
    "- For fine-tuning, let's use the same optimizer that BERT was originally trained with: the \"Adaptive Moments\" (Adam)\n",
    "\n",
    "- linear warm-up phase over the first 10% of training steps (num_warmup_steps)\n",
    "- In line with the BERT paper, the initial learning rate is smaller for fine-tuning (best of 5e-5, 3e-5, 2e-5)."
   ]
  },
  {
   "cell_type": "code",
   "execution_count": 13,
   "id": "04be700f",
   "metadata": {},
   "outputs": [],
   "source": [
    "loss = tf.keras.losses.BinaryCrossentropy(from_logits=  True)\n",
    "metrics = tf.metrics.BinaryAccuracy()\n",
    "\n"
   ]
  },
  {
   "cell_type": "code",
   "execution_count": 14,
   "id": "70440825",
   "metadata": {},
   "outputs": [],
   "source": [
    "epochs= 5\n",
    "\n",
    "\n",
    "steps_per_epoch = tf.data.experimental.cardinality(train_ds).numpy()\n",
    "num_train_steps = steps_per_epoch*epochs\n",
    "num_warmup_steps = int(0.1*num_train_steps)\n",
    "\n",
    "init_lr = 3e-5\n",
    "optimizer = optimization.create_optimizer(init_lr,\n",
    "                                         num_train_steps = num_train_steps,\n",
    "                                         num_warmup_steps = num_warmup_steps,\n",
    "                                         optimizer_type = 'adamw')\n",
    "\n"
   ]
  },
  {
   "cell_type": "code",
   "execution_count": 15,
   "id": "b9e2b475",
   "metadata": {},
   "outputs": [
    {
     "name": "stdout",
     "output_type": "stream",
     "text": [
      "Training model with https://tfhub.dev/tensorflow/small_bert/bert_en_uncased_L-4_H-512_A-8/1\n",
      "Epoch 1/5\n",
      "625/625 [==============================] - 137s 211ms/step - loss: 0.4896 - binary_accuracy: 0.7408 - val_loss: 0.3847 - val_binary_accuracy: 0.8372\n",
      "Epoch 2/5\n",
      "625/625 [==============================] - 129s 206ms/step - loss: 0.3302 - binary_accuracy: 0.8540 - val_loss: 0.3589 - val_binary_accuracy: 0.8436\n",
      "Epoch 3/5\n",
      "625/625 [==============================] - 129s 206ms/step - loss: 0.2524 - binary_accuracy: 0.8921 - val_loss: 0.3864 - val_binary_accuracy: 0.8490\n",
      "Epoch 4/5\n",
      "625/625 [==============================] - 129s 207ms/step - loss: 0.1918 - binary_accuracy: 0.9251 - val_loss: 0.4461 - val_binary_accuracy: 0.8506\n",
      "Epoch 5/5\n",
      "625/625 [==============================] - 129s 207ms/step - loss: 0.1514 - binary_accuracy: 0.9434 - val_loss: 0.4854 - val_binary_accuracy: 0.8546\n"
     ]
    }
   ],
   "source": [
    "classifier_model.compile(optimizer= optimizer,\n",
    "                        loss = loss,\n",
    "                        metrics = metrics)\n",
    "\n",
    "print(f'Training model with {tfhub_handle_encoder}')\n",
    "\n",
    "history = classifier_model.fit(x = train_ds,\n",
    "                              validation_data = val_ds,\n",
    "                              epochs = epochs)\n"
   ]
  },
  {
   "cell_type": "markdown",
   "id": "c9c9667a",
   "metadata": {},
   "source": [
    "### 5. Evaluation"
   ]
  },
  {
   "cell_type": "code",
   "execution_count": 17,
   "id": "9ddbc71b",
   "metadata": {},
   "outputs": [
    {
     "name": "stdout",
     "output_type": "stream",
     "text": [
      "782/782 [==============================] - 86s 109ms/step - loss: 0.4645 - binary_accuracy: 0.8570\n",
      "Loss:0.46446695923805237\n",
      "Accuracy: 0.8570399880409241\n"
     ]
    }
   ],
   "source": [
    "loss,accuracy = classifier_model.evaluate(test_ds)\n",
    "\n",
    "print(f'Loss:{loss}')\n",
    "print(f'Accuracy: {accuracy}')\n"
   ]
  },
  {
   "cell_type": "code",
   "execution_count": 21,
   "id": "8a8bac31",
   "metadata": {},
   "outputs": [
    {
     "name": "stdout",
     "output_type": "stream",
     "text": [
      "dict_keys(['loss', 'binary_accuracy', 'val_loss', 'val_binary_accuracy'])\n"
     ]
    },
    {
     "data": {
      "text/plain": [
       "<matplotlib.legend.Legend at 0x1d1bec998b0>"
      ]
     },
     "execution_count": 21,
     "metadata": {},
     "output_type": "execute_result"
    },
    {
     "data": {
      "image/png": "[encoded data removed]",
      "text/plain": [
       "<Figure size 720x432 with 2 Axes>"
      ]
     },
     "metadata": {
      "needs_background": "light"
     },
     "output_type": "display_data"
    }
   ],
   "source": [
    "history_dict = history.history\n",
    "print(history_dict.keys())\n",
    "\n",
    "acc = history_dict['binary_accuracy']\n",
    "val_acc = history_dict['val_binary_accuracy']\n",
    "loss = history_dict['loss']\n",
    "val_loss = history_dict['val_loss']\n",
    "\n",
    "epochs = range(1,len(acc)+1)\n",
    "fig = plt.figure(figsize = (10,6))\n",
    "fig.tight_layout()\n",
    "\n",
    "\n",
    "plt.subplot(2,1,1)\n",
    "plt.plot(epochs,loss,'r',label = 'Training loss')\n",
    "plt.plot(epochs, val_loss,'b',label = 'Validation loss')\n",
    "plt.title('Training and validation loss')\n",
    "\n",
    "plt.ylabel('Loss')\n",
    "plt.legend()\n",
    "\n",
    "plt.subplot(2,1,2)\n",
    "plt.plot(epochs,acc,'r',label = 'Training acc')\n",
    "plt.plot(epochs,val_acc,'b',label = 'Validation acc')\n",
    "plt.title('Training and validation accuracy')\n",
    "plt.xlabel('Epochs')\n",
    "plt.ylabel('Accuracy')\n",
    "plt.legend(loc=  'lower right')\n"
   ]
  },
  {
   "cell_type": "markdown",
   "id": "02408017",
   "metadata": {},
   "source": [
    "### 6. Save model\n",
    "\n",
    "- include_optimizer = False: 優化器的狀態不會被保存下來，可以節省不少體積"
   ]
  },
  {
   "cell_type": "code",
   "execution_count": 22,
   "id": "5d00c78a",
   "metadata": {},
   "outputs": [
    {
     "name": "stderr",
     "output_type": "stream",
     "text": [
      "WARNING:absl:Found untraced functions such as restored_function_body, restored_function_body, restored_function_body, restored_function_body, restored_function_body while saving (showing 5 of 124). These functions will not be directly callable after loading.\n"
     ]
    }
   ],
   "source": [
    "dataset_name = 'imdb'\n",
    "save_model_path = './{}_bert'.format(dataset_name.replace('/','_'))\n",
    "classifier_model.save(save_model_path,include_optimizer = False)"
   ]
  },
  {
   "cell_type": "markdown",
   "id": "b83e2260",
   "metadata": {},
   "source": [
    "### 7. Load model and predict"
   ]
  },
  {
   "cell_type": "code",
   "execution_count": 23,
   "id": "5c790639",
   "metadata": {},
   "outputs": [],
   "source": [
    "reloaded_model = tf.saved_model.load(save_model_path)"
   ]
  },
  {
   "cell_type": "code",
   "execution_count": 24,
   "id": "b724a092",
   "metadata": {},
   "outputs": [
    {
     "name": "stdout",
     "output_type": "stream",
     "text": [
      "Results from the saved model:\n",
      "input: this is such an amazing movie! : score: 0.998837\n",
      "input: The movie was great!           : score: 0.994725\n",
      "input: The movie was meh.             : score: 0.958421\n",
      "input: The movie was okish.           : score: 0.026961\n",
      "input: The movie was terrible...      : score: 0.001273\n",
      "\n",
      "Results from the model in memory:\n",
      "input: this is such an amazing movie! : score: 0.998837\n",
      "input: The movie was great!           : score: 0.994725\n",
      "input: The movie was meh.             : score: 0.958421\n",
      "input: The movie was okish.           : score: 0.026961\n",
      "input: The movie was terrible...      : score: 0.001273\n",
      "\n"
     ]
    }
   ],
   "source": [
    "def print_my_examples(inputs, results):\n",
    "  result_for_printing = \\\n",
    "    [f'input: {inputs[i]:<30} : score: {results[i][0]:.6f}'\n",
    "                         for i in range(len(inputs))]\n",
    "  print(*result_for_printing, sep='\\n')\n",
    "  print()\n",
    "\n",
    "\n",
    "examples = [\n",
    "    'this is such an amazing movie!',  # this is the same sentence tried earlier\n",
    "    'The movie was great!',\n",
    "    'The movie was meh.',\n",
    "    'The movie was okish.',\n",
    "    'The movie was terrible...'\n",
    "]\n",
    "\n",
    "reloaded_results = tf.sigmoid(reloaded_model(tf.constant(examples)))\n",
    "original_results = tf.sigmoid(classifier_model(tf.constant(examples)))\n",
    "\n",
    "print('Results from the saved model:')\n",
    "print_my_examples(examples, reloaded_results)\n",
    "print('Results from the model in memory:')\n",
    "print_my_examples(examples, original_results)\n",
    "    "
   ]
  },
  {
   "cell_type": "code",
   "execution_count": null,
   "id": "37b0a900",
   "metadata": {},
   "outputs": [],
   "source": []
  }
 ],
 "metadata": {
  "kernelspec": {
   "display_name": "Python 3 (ipykernel)",
   "language": "python",
   "name": "python3"
  },
  "language_info": {
   "codemirror_mode": {
    "name": "ipython",
    "version": 3
   },
   "file_extension": ".py",
   "mimetype": "text/x-python",
   "name": "python",
   "nbconvert_exporter": "python",
   "pygments_lexer": "ipython3",
   "version": "3.8.5"
  }
 },
 "nbformat": 4,
 "nbformat_minor": 5
}
