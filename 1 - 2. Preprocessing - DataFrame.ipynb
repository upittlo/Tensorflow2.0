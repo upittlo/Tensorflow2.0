{
 "cells": [
  {
   "cell_type": "code",
   "execution_count": 30,
   "id": "junior-multimedia",
   "metadata": {},
   "outputs": [],
   "source": [
    "import pandas as pd\n",
    "import numpy as np\n",
    "import tensorflow as tf\n"
   ]
  },
  {
   "cell_type": "markdown",
   "id": "immediate-ticket",
   "metadata": {},
   "source": [
    "## DataFrame"
   ]
  },
  {
   "cell_type": "code",
   "execution_count": 31,
   "id": "decent-technician",
   "metadata": {},
   "outputs": [],
   "source": [
    "csv_data = tf.keras.utils.get_file('iris.csv', 'https://raw.githubusercontent.com/jerrywu2013/Hiskio_data/master/iris.csv')"
   ]
  },
  {
   "cell_type": "code",
   "execution_count": 32,
   "id": "adequate-wagon",
   "metadata": {},
   "outputs": [
    {
     "data": {
      "text/html": [
       "<div>\n",
       "<style scoped>\n",
       "    .dataframe tbody tr th:only-of-type {\n",
       "        vertical-align: middle;\n",
       "    }\n",
       "\n",
       "    .dataframe tbody tr th {\n",
       "        vertical-align: top;\n",
       "    }\n",
       "\n",
       "    .dataframe thead th {\n",
       "        text-align: right;\n",
       "    }\n",
       "</style>\n",
       "<table border=\"1\" class=\"dataframe\">\n",
       "  <thead>\n",
       "    <tr style=\"text-align: right;\">\n",
       "      <th></th>\n",
       "      <th>sepal.length</th>\n",
       "      <th>sepal.width</th>\n",
       "      <th>petal.length</th>\n",
       "      <th>petal.width</th>\n",
       "      <th>variety</th>\n",
       "    </tr>\n",
       "  </thead>\n",
       "  <tbody>\n",
       "    <tr>\n",
       "      <th>0</th>\n",
       "      <td>5.1</td>\n",
       "      <td>3.5</td>\n",
       "      <td>1.4</td>\n",
       "      <td>0.2</td>\n",
       "      <td>Setosa</td>\n",
       "    </tr>\n",
       "    <tr>\n",
       "      <th>1</th>\n",
       "      <td>4.9</td>\n",
       "      <td>3.0</td>\n",
       "      <td>1.4</td>\n",
       "      <td>0.2</td>\n",
       "      <td>Setosa</td>\n",
       "    </tr>\n",
       "    <tr>\n",
       "      <th>2</th>\n",
       "      <td>4.7</td>\n",
       "      <td>3.2</td>\n",
       "      <td>1.3</td>\n",
       "      <td>0.2</td>\n",
       "      <td>Setosa</td>\n",
       "    </tr>\n",
       "    <tr>\n",
       "      <th>3</th>\n",
       "      <td>4.6</td>\n",
       "      <td>3.1</td>\n",
       "      <td>1.5</td>\n",
       "      <td>0.2</td>\n",
       "      <td>Setosa</td>\n",
       "    </tr>\n",
       "    <tr>\n",
       "      <th>4</th>\n",
       "      <td>5.0</td>\n",
       "      <td>3.6</td>\n",
       "      <td>1.4</td>\n",
       "      <td>0.2</td>\n",
       "      <td>Setosa</td>\n",
       "    </tr>\n",
       "  </tbody>\n",
       "</table>\n",
       "</div>"
      ],
      "text/plain": [
       "   sepal.length  sepal.width  petal.length  petal.width variety\n",
       "0           5.1          3.5           1.4          0.2  Setosa\n",
       "1           4.9          3.0           1.4          0.2  Setosa\n",
       "2           4.7          3.2           1.3          0.2  Setosa\n",
       "3           4.6          3.1           1.5          0.2  Setosa\n",
       "4           5.0          3.6           1.4          0.2  Setosa"
      ]
     },
     "execution_count": 32,
     "metadata": {},
     "output_type": "execute_result"
    }
   ],
   "source": [
    "df = pd.read_csv(csv_data)\n",
    "df.head()"
   ]
  },
  {
   "cell_type": "code",
   "execution_count": 33,
   "id": "interim-coordinator",
   "metadata": {},
   "outputs": [
    {
     "data": {
      "text/plain": [
       "sepal.length    float64\n",
       "sepal.width     float64\n",
       "petal.length    float64\n",
       "petal.width     float64\n",
       "variety          object\n",
       "dtype: object"
      ]
     },
     "execution_count": 33,
     "metadata": {},
     "output_type": "execute_result"
    }
   ],
   "source": [
    "df.dtypes"
   ]
  },
  {
   "cell_type": "code",
   "execution_count": 34,
   "id": "intermediate-virgin",
   "metadata": {},
   "outputs": [
    {
     "data": {
      "text/html": [
       "<div>\n",
       "<style scoped>\n",
       "    .dataframe tbody tr th:only-of-type {\n",
       "        vertical-align: middle;\n",
       "    }\n",
       "\n",
       "    .dataframe tbody tr th {\n",
       "        vertical-align: top;\n",
       "    }\n",
       "\n",
       "    .dataframe thead th {\n",
       "        text-align: right;\n",
       "    }\n",
       "</style>\n",
       "<table border=\"1\" class=\"dataframe\">\n",
       "  <thead>\n",
       "    <tr style=\"text-align: right;\">\n",
       "      <th></th>\n",
       "      <th>sepal.length</th>\n",
       "      <th>sepal.width</th>\n",
       "      <th>petal.length</th>\n",
       "      <th>petal.width</th>\n",
       "      <th>variety</th>\n",
       "    </tr>\n",
       "  </thead>\n",
       "  <tbody>\n",
       "    <tr>\n",
       "      <th>0</th>\n",
       "      <td>5.1</td>\n",
       "      <td>3.5</td>\n",
       "      <td>1.4</td>\n",
       "      <td>0.2</td>\n",
       "      <td>Setosa</td>\n",
       "    </tr>\n",
       "    <tr>\n",
       "      <th>1</th>\n",
       "      <td>4.9</td>\n",
       "      <td>3.0</td>\n",
       "      <td>1.4</td>\n",
       "      <td>0.2</td>\n",
       "      <td>Setosa</td>\n",
       "    </tr>\n",
       "    <tr>\n",
       "      <th>2</th>\n",
       "      <td>4.7</td>\n",
       "      <td>3.2</td>\n",
       "      <td>1.3</td>\n",
       "      <td>0.2</td>\n",
       "      <td>Setosa</td>\n",
       "    </tr>\n",
       "    <tr>\n",
       "      <th>3</th>\n",
       "      <td>4.6</td>\n",
       "      <td>3.1</td>\n",
       "      <td>1.5</td>\n",
       "      <td>0.2</td>\n",
       "      <td>Setosa</td>\n",
       "    </tr>\n",
       "    <tr>\n",
       "      <th>4</th>\n",
       "      <td>5.0</td>\n",
       "      <td>3.6</td>\n",
       "      <td>1.4</td>\n",
       "      <td>0.2</td>\n",
       "      <td>Setosa</td>\n",
       "    </tr>\n",
       "    <tr>\n",
       "      <th>...</th>\n",
       "      <td>...</td>\n",
       "      <td>...</td>\n",
       "      <td>...</td>\n",
       "      <td>...</td>\n",
       "      <td>...</td>\n",
       "    </tr>\n",
       "    <tr>\n",
       "      <th>145</th>\n",
       "      <td>6.7</td>\n",
       "      <td>3.0</td>\n",
       "      <td>5.2</td>\n",
       "      <td>2.3</td>\n",
       "      <td>Virginica</td>\n",
       "    </tr>\n",
       "    <tr>\n",
       "      <th>146</th>\n",
       "      <td>6.3</td>\n",
       "      <td>2.5</td>\n",
       "      <td>5.0</td>\n",
       "      <td>1.9</td>\n",
       "      <td>Virginica</td>\n",
       "    </tr>\n",
       "    <tr>\n",
       "      <th>147</th>\n",
       "      <td>6.5</td>\n",
       "      <td>3.0</td>\n",
       "      <td>5.2</td>\n",
       "      <td>2.0</td>\n",
       "      <td>Virginica</td>\n",
       "    </tr>\n",
       "    <tr>\n",
       "      <th>148</th>\n",
       "      <td>6.2</td>\n",
       "      <td>3.4</td>\n",
       "      <td>5.4</td>\n",
       "      <td>2.3</td>\n",
       "      <td>Virginica</td>\n",
       "    </tr>\n",
       "    <tr>\n",
       "      <th>149</th>\n",
       "      <td>5.9</td>\n",
       "      <td>3.0</td>\n",
       "      <td>5.1</td>\n",
       "      <td>1.8</td>\n",
       "      <td>Virginica</td>\n",
       "    </tr>\n",
       "  </tbody>\n",
       "</table>\n",
       "<p>150 rows × 5 columns</p>\n",
       "</div>"
      ],
      "text/plain": [
       "     sepal.length  sepal.width  petal.length  petal.width    variety\n",
       "0             5.1          3.5           1.4          0.2     Setosa\n",
       "1             4.9          3.0           1.4          0.2     Setosa\n",
       "2             4.7          3.2           1.3          0.2     Setosa\n",
       "3             4.6          3.1           1.5          0.2     Setosa\n",
       "4             5.0          3.6           1.4          0.2     Setosa\n",
       "..            ...          ...           ...          ...        ...\n",
       "145           6.7          3.0           5.2          2.3  Virginica\n",
       "146           6.3          2.5           5.0          1.9  Virginica\n",
       "147           6.5          3.0           5.2          2.0  Virginica\n",
       "148           6.2          3.4           5.4          2.3  Virginica\n",
       "149           5.9          3.0           5.1          1.8  Virginica\n",
       "\n",
       "[150 rows x 5 columns]"
      ]
     },
     "execution_count": 34,
     "metadata": {},
     "output_type": "execute_result"
    }
   ],
   "source": [
    "#轉換目標欄位為離散值\n",
    "df['variety'] = pd.Categorical(df['variety'])\n",
    "df"
   ]
  },
  {
   "cell_type": "code",
   "execution_count": 35,
   "id": "amber-electricity",
   "metadata": {},
   "outputs": [
    {
     "data": {
      "text/plain": [
       "sepal.length     float64\n",
       "sepal.width      float64\n",
       "petal.length     float64\n",
       "petal.width      float64\n",
       "variety         category\n",
       "dtype: object"
      ]
     },
     "execution_count": 35,
     "metadata": {},
     "output_type": "execute_result"
    }
   ],
   "source": [
    "df.dtypes"
   ]
  },
  {
   "cell_type": "code",
   "execution_count": 36,
   "id": "invisible-sleep",
   "metadata": {},
   "outputs": [
    {
     "data": {
      "text/html": [
       "<div>\n",
       "<style scoped>\n",
       "    .dataframe tbody tr th:only-of-type {\n",
       "        vertical-align: middle;\n",
       "    }\n",
       "\n",
       "    .dataframe tbody tr th {\n",
       "        vertical-align: top;\n",
       "    }\n",
       "\n",
       "    .dataframe thead th {\n",
       "        text-align: right;\n",
       "    }\n",
       "</style>\n",
       "<table border=\"1\" class=\"dataframe\">\n",
       "  <thead>\n",
       "    <tr style=\"text-align: right;\">\n",
       "      <th></th>\n",
       "      <th>sepal.length</th>\n",
       "      <th>sepal.width</th>\n",
       "      <th>petal.length</th>\n",
       "      <th>petal.width</th>\n",
       "      <th>variety</th>\n",
       "    </tr>\n",
       "  </thead>\n",
       "  <tbody>\n",
       "    <tr>\n",
       "      <th>0</th>\n",
       "      <td>5.1</td>\n",
       "      <td>3.5</td>\n",
       "      <td>1.4</td>\n",
       "      <td>0.2</td>\n",
       "      <td>0</td>\n",
       "    </tr>\n",
       "    <tr>\n",
       "      <th>1</th>\n",
       "      <td>4.9</td>\n",
       "      <td>3.0</td>\n",
       "      <td>1.4</td>\n",
       "      <td>0.2</td>\n",
       "      <td>0</td>\n",
       "    </tr>\n",
       "    <tr>\n",
       "      <th>2</th>\n",
       "      <td>4.7</td>\n",
       "      <td>3.2</td>\n",
       "      <td>1.3</td>\n",
       "      <td>0.2</td>\n",
       "      <td>0</td>\n",
       "    </tr>\n",
       "    <tr>\n",
       "      <th>3</th>\n",
       "      <td>4.6</td>\n",
       "      <td>3.1</td>\n",
       "      <td>1.5</td>\n",
       "      <td>0.2</td>\n",
       "      <td>0</td>\n",
       "    </tr>\n",
       "    <tr>\n",
       "      <th>4</th>\n",
       "      <td>5.0</td>\n",
       "      <td>3.6</td>\n",
       "      <td>1.4</td>\n",
       "      <td>0.2</td>\n",
       "      <td>0</td>\n",
       "    </tr>\n",
       "  </tbody>\n",
       "</table>\n",
       "</div>"
      ],
      "text/plain": [
       "   sepal.length  sepal.width  petal.length  petal.width  variety\n",
       "0           5.1          3.5           1.4          0.2        0\n",
       "1           4.9          3.0           1.4          0.2        0\n",
       "2           4.7          3.2           1.3          0.2        0\n",
       "3           4.6          3.1           1.5          0.2        0\n",
       "4           5.0          3.6           1.4          0.2        0"
      ]
     },
     "execution_count": 36,
     "metadata": {},
     "output_type": "execute_result"
    }
   ],
   "source": [
    "df['variety'] = df.variety.cat.codes\n",
    "df.head()"
   ]
  },
  {
   "cell_type": "markdown",
   "id": "stuffed-catholic",
   "metadata": {},
   "source": [
    "#### 透過tf.data.Dataset做資料切割與轉換"
   ]
  },
  {
   "cell_type": "code",
   "execution_count": 37,
   "id": "mighty-voltage",
   "metadata": {},
   "outputs": [],
   "source": [
    "target = df.pop('variety')\n"
   ]
  },
  {
   "cell_type": "code",
   "execution_count": 38,
   "id": "documentary-faith",
   "metadata": {},
   "outputs": [
    {
     "data": {
      "text/plain": [
       "<TensorSliceDataset shapes: ((4,), ()), types: (tf.float64, tf.int8)>"
      ]
     },
     "execution_count": 38,
     "metadata": {},
     "output_type": "execute_result"
    }
   ],
   "source": [
    "dataset = tf.data.Dataset.from_tensor_slices((df.values,target.values))\n",
    "\n",
    "#透過tf.data.Dataset可以轉換標準的Tensor資料管道方便之後運算\n",
    "dataset"
   ]
  },
  {
   "cell_type": "code",
   "execution_count": 39,
   "id": "signed-agency",
   "metadata": {},
   "outputs": [
    {
     "name": "stdout",
     "output_type": "stream",
     "text": [
      "(<tf.Tensor: shape=(4,), dtype=float64, numpy=array([5.1, 3.5, 1.4, 0.2])>, <tf.Tensor: shape=(), dtype=int8, numpy=0>)\n",
      "(<tf.Tensor: shape=(4,), dtype=float64, numpy=array([4.9, 3. , 1.4, 0.2])>, <tf.Tensor: shape=(), dtype=int8, numpy=0>)\n",
      "(<tf.Tensor: shape=(4,), dtype=float64, numpy=array([4.7, 3.2, 1.3, 0.2])>, <tf.Tensor: shape=(), dtype=int8, numpy=0>)\n",
      "(<tf.Tensor: shape=(4,), dtype=float64, numpy=array([4.6, 3.1, 1.5, 0.2])>, <tf.Tensor: shape=(), dtype=int8, numpy=0>)\n",
      "(<tf.Tensor: shape=(4,), dtype=float64, numpy=array([5. , 3.6, 1.4, 0.2])>, <tf.Tensor: shape=(), dtype=int8, numpy=0>)\n",
      "(<tf.Tensor: shape=(4,), dtype=float64, numpy=array([5.4, 3.9, 1.7, 0.4])>, <tf.Tensor: shape=(), dtype=int8, numpy=0>)\n",
      "(<tf.Tensor: shape=(4,), dtype=float64, numpy=array([4.6, 3.4, 1.4, 0.3])>, <tf.Tensor: shape=(), dtype=int8, numpy=0>)\n",
      "(<tf.Tensor: shape=(4,), dtype=float64, numpy=array([5. , 3.4, 1.5, 0.2])>, <tf.Tensor: shape=(), dtype=int8, numpy=0>)\n",
      "(<tf.Tensor: shape=(4,), dtype=float64, numpy=array([4.4, 2.9, 1.4, 0.2])>, <tf.Tensor: shape=(), dtype=int8, numpy=0>)\n",
      "(<tf.Tensor: shape=(4,), dtype=float64, numpy=array([4.9, 3.1, 1.5, 0.1])>, <tf.Tensor: shape=(), dtype=int8, numpy=0>)\n",
      "(<tf.Tensor: shape=(4,), dtype=float64, numpy=array([5.4, 3.7, 1.5, 0.2])>, <tf.Tensor: shape=(), dtype=int8, numpy=0>)\n",
      "(<tf.Tensor: shape=(4,), dtype=float64, numpy=array([4.8, 3.4, 1.6, 0.2])>, <tf.Tensor: shape=(), dtype=int8, numpy=0>)\n",
      "(<tf.Tensor: shape=(4,), dtype=float64, numpy=array([4.8, 3. , 1.4, 0.1])>, <tf.Tensor: shape=(), dtype=int8, numpy=0>)\n",
      "(<tf.Tensor: shape=(4,), dtype=float64, numpy=array([4.3, 3. , 1.1, 0.1])>, <tf.Tensor: shape=(), dtype=int8, numpy=0>)\n",
      "(<tf.Tensor: shape=(4,), dtype=float64, numpy=array([5.8, 4. , 1.2, 0.2])>, <tf.Tensor: shape=(), dtype=int8, numpy=0>)\n",
      "(<tf.Tensor: shape=(4,), dtype=float64, numpy=array([5.7, 4.4, 1.5, 0.4])>, <tf.Tensor: shape=(), dtype=int8, numpy=0>)\n",
      "(<tf.Tensor: shape=(4,), dtype=float64, numpy=array([5.4, 3.9, 1.3, 0.4])>, <tf.Tensor: shape=(), dtype=int8, numpy=0>)\n",
      "(<tf.Tensor: shape=(4,), dtype=float64, numpy=array([5.1, 3.5, 1.4, 0.3])>, <tf.Tensor: shape=(), dtype=int8, numpy=0>)\n",
      "(<tf.Tensor: shape=(4,), dtype=float64, numpy=array([5.7, 3.8, 1.7, 0.3])>, <tf.Tensor: shape=(), dtype=int8, numpy=0>)\n",
      "(<tf.Tensor: shape=(4,), dtype=float64, numpy=array([5.1, 3.8, 1.5, 0.3])>, <tf.Tensor: shape=(), dtype=int8, numpy=0>)\n"
     ]
    }
   ],
   "source": [
    "## take 可用來看資料\n",
    "\n",
    "for i in dataset.take(20):\n",
    "    print(i)"
   ]
  },
  {
   "cell_type": "markdown",
   "id": "extended-sharing",
   "metadata": {},
   "source": [
    "\n",
    "\n",
    "- batch: 將資料封裝乘batch, ()內為每個batch資料數\n",
    "- shuffle: 一次取指定數目洗牌, 洗完在取下一批, 越大越好\n",
    "- skip(count): 跳過前count數個資料\n"
   ]
  },
  {
   "cell_type": "code",
   "execution_count": 40,
   "id": "foreign-accordance",
   "metadata": {},
   "outputs": [],
   "source": [
    "all_train_dataset = dataset.shuffle(len(df)).batch(1)\n"
   ]
  },
  {
   "cell_type": "code",
   "execution_count": 41,
   "id": "numerical-window",
   "metadata": {},
   "outputs": [
    {
     "name": "stdout",
     "output_type": "stream",
     "text": [
      "(<tf.Tensor: shape=(1, 4), dtype=float64, numpy=array([[5. , 3.5, 1.3, 0.3]])>, <tf.Tensor: shape=(1,), dtype=int8, numpy=array([0], dtype=int8)>)\n",
      "(<tf.Tensor: shape=(1, 4), dtype=float64, numpy=array([[5.1, 3.8, 1.5, 0.3]])>, <tf.Tensor: shape=(1,), dtype=int8, numpy=array([0], dtype=int8)>)\n",
      "(<tf.Tensor: shape=(1, 4), dtype=float64, numpy=array([[6.7, 2.5, 5.8, 1.8]])>, <tf.Tensor: shape=(1,), dtype=int8, numpy=array([2], dtype=int8)>)\n",
      "(<tf.Tensor: shape=(1, 4), dtype=float64, numpy=array([[6.9, 3.1, 5.1, 2.3]])>, <tf.Tensor: shape=(1,), dtype=int8, numpy=array([2], dtype=int8)>)\n",
      "(<tf.Tensor: shape=(1, 4), dtype=float64, numpy=array([[6.4, 2.7, 5.3, 1.9]])>, <tf.Tensor: shape=(1,), dtype=int8, numpy=array([2], dtype=int8)>)\n",
      "(<tf.Tensor: shape=(1, 4), dtype=float64, numpy=array([[5.6, 2.7, 4.2, 1.3]])>, <tf.Tensor: shape=(1,), dtype=int8, numpy=array([1], dtype=int8)>)\n",
      "(<tf.Tensor: shape=(1, 4), dtype=float64, numpy=array([[5.8, 2.7, 5.1, 1.9]])>, <tf.Tensor: shape=(1,), dtype=int8, numpy=array([2], dtype=int8)>)\n",
      "(<tf.Tensor: shape=(1, 4), dtype=float64, numpy=array([[5.8, 2.8, 5.1, 2.4]])>, <tf.Tensor: shape=(1,), dtype=int8, numpy=array([2], dtype=int8)>)\n",
      "(<tf.Tensor: shape=(1, 4), dtype=float64, numpy=array([[6.3, 2.3, 4.4, 1.3]])>, <tf.Tensor: shape=(1,), dtype=int8, numpy=array([1], dtype=int8)>)\n",
      "(<tf.Tensor: shape=(1, 4), dtype=float64, numpy=array([[7.7, 2.6, 6.9, 2.3]])>, <tf.Tensor: shape=(1,), dtype=int8, numpy=array([2], dtype=int8)>)\n",
      "(<tf.Tensor: shape=(1, 4), dtype=float64, numpy=array([[6.3, 2.8, 5.1, 1.5]])>, <tf.Tensor: shape=(1,), dtype=int8, numpy=array([2], dtype=int8)>)\n",
      "(<tf.Tensor: shape=(1, 4), dtype=float64, numpy=array([[4.9, 3.1, 1.5, 0.1]])>, <tf.Tensor: shape=(1,), dtype=int8, numpy=array([0], dtype=int8)>)\n",
      "(<tf.Tensor: shape=(1, 4), dtype=float64, numpy=array([[5.4, 3.9, 1.3, 0.4]])>, <tf.Tensor: shape=(1,), dtype=int8, numpy=array([0], dtype=int8)>)\n",
      "(<tf.Tensor: shape=(1, 4), dtype=float64, numpy=array([[4.9, 3.1, 1.5, 0.2]])>, <tf.Tensor: shape=(1,), dtype=int8, numpy=array([0], dtype=int8)>)\n",
      "(<tf.Tensor: shape=(1, 4), dtype=float64, numpy=array([[7.9, 3.8, 6.4, 2. ]])>, <tf.Tensor: shape=(1,), dtype=int8, numpy=array([2], dtype=int8)>)\n",
      "(<tf.Tensor: shape=(1, 4), dtype=float64, numpy=array([[4.9, 3.6, 1.4, 0.1]])>, <tf.Tensor: shape=(1,), dtype=int8, numpy=array([0], dtype=int8)>)\n",
      "(<tf.Tensor: shape=(1, 4), dtype=float64, numpy=array([[5. , 3.6, 1.4, 0.2]])>, <tf.Tensor: shape=(1,), dtype=int8, numpy=array([0], dtype=int8)>)\n",
      "(<tf.Tensor: shape=(1, 4), dtype=float64, numpy=array([[7.6, 3. , 6.6, 2.1]])>, <tf.Tensor: shape=(1,), dtype=int8, numpy=array([2], dtype=int8)>)\n",
      "(<tf.Tensor: shape=(1, 4), dtype=float64, numpy=array([[6.5, 3. , 5.5, 1.8]])>, <tf.Tensor: shape=(1,), dtype=int8, numpy=array([2], dtype=int8)>)\n",
      "(<tf.Tensor: shape=(1, 4), dtype=float64, numpy=array([[5.2, 2.7, 3.9, 1.4]])>, <tf.Tensor: shape=(1,), dtype=int8, numpy=array([1], dtype=int8)>)\n"
     ]
    }
   ],
   "source": [
    "### 觀察打亂後數據\n",
    "for i in all_train_dataset.take(20):\n",
    "    print (i)"
   ]
  },
  {
   "cell_type": "code",
   "execution_count": 42,
   "id": "clean-packet",
   "metadata": {},
   "outputs": [],
   "source": [
    "train_dataset = all_train_dataset.take(int(0.7 * len(df)))\n",
    "test_dataset = all_train_dataset.skip(int(0.7 * len(df)))"
   ]
  },
  {
   "cell_type": "code",
   "execution_count": 43,
   "id": "floppy-throat",
   "metadata": {},
   "outputs": [],
   "source": [
    "model = tf.keras.models.Sequential([\n",
    "    tf.keras.layers.Flatten(),\n",
    "    tf.keras.layers.Dense(128,activation = 'relu'),\n",
    "    tf.keras.layers.Dropout(0.2),\n",
    "    tf.keras.layers.Dense(3)\n",
    "])"
   ]
  },
  {
   "cell_type": "code",
   "execution_count": 44,
   "id": "linear-louisville",
   "metadata": {},
   "outputs": [
    {
     "name": "stdout",
     "output_type": "stream",
     "text": [
      "Train for 105 steps\n",
      "Epoch 1/10\n",
      "105/105 [==============================] - 1s 7ms/step - loss: 1.0246 - accuracy: 0.4762\n",
      "Epoch 2/10\n",
      "105/105 [==============================] - 0s 2ms/step - loss: 0.7754 - accuracy: 0.6286\n",
      "Epoch 3/10\n",
      "105/105 [==============================] - 0s 2ms/step - loss: 0.6655 - accuracy: 0.6571\n",
      "Epoch 4/10\n",
      "105/105 [==============================] - 0s 2ms/step - loss: 0.5342 - accuracy: 0.7429\n",
      "Epoch 5/10\n",
      "105/105 [==============================] - 0s 2ms/step - loss: 0.5127 - accuracy: 0.7429\n",
      "Epoch 6/10\n",
      "105/105 [==============================] - 0s 2ms/step - loss: 0.4246 - accuracy: 0.8190\n",
      "Epoch 7/10\n",
      "105/105 [==============================] - 0s 2ms/step - loss: 0.4214 - accuracy: 0.7714: 0s - loss: 0.3966 - accuracy: \n",
      "Epoch 8/10\n",
      "105/105 [==============================] - 0s 2ms/step - loss: 0.3300 - accuracy: 0.8857\n",
      "Epoch 9/10\n",
      "105/105 [==============================] - 0s 2ms/step - loss: 0.3231 - accuracy: 0.8857\n",
      "Epoch 10/10\n",
      "105/105 [==============================] - 0s 2ms/step - loss: 0.2983 - accuracy: 0.8762\n"
     ]
    },
    {
     "data": {
      "text/plain": [
       "<tensorflow.python.keras.callbacks.History at 0x1b51b005f28>"
      ]
     },
     "execution_count": 44,
     "metadata": {},
     "output_type": "execute_result"
    }
   ],
   "source": [
    "loss_fn = tf.keras.losses.SparseCategoricalCrossentropy(from_logits = True)\n",
    "model.compile(optimizer = 'adam',\n",
    "             loss = loss_fn,\n",
    "             metrics = ['accuracy'])\n",
    "\n",
    "model.fit(train_dataset,epochs = 10)"
   ]
  },
  {
   "cell_type": "code",
   "execution_count": 45,
   "id": "offensive-participant",
   "metadata": {},
   "outputs": [
    {
     "name": "stdout",
     "output_type": "stream",
     "text": [
      "45/45 [==============================] - 0s 3ms/step - loss: 0.2212 - accuracy: 1.0000\n"
     ]
    },
    {
     "data": {
      "text/plain": [
       "[0.22116143262634674, 1.0]"
      ]
     },
     "execution_count": 45,
     "metadata": {},
     "output_type": "execute_result"
    }
   ],
   "source": [
    "model.evaluate(test_dataset)"
   ]
  },
  {
   "cell_type": "code",
   "execution_count": null,
   "id": "designed-survivor",
   "metadata": {},
   "outputs": [],
   "source": []
  }
 ],
 "metadata": {
  "kernelspec": {
   "display_name": "Python 3",
   "language": "python",
   "name": "python3"
  },
  "language_info": {
   "codemirror_mode": {
    "name": "ipython",
    "version": 3
   },
   "file_extension": ".py",
   "mimetype": "text/x-python",
   "name": "python",
   "nbconvert_exporter": "python",
   "pygments_lexer": "ipython3",
   "version": "3.6.13"
  }
 },
 "nbformat": 4,
 "nbformat_minor": 5
}
