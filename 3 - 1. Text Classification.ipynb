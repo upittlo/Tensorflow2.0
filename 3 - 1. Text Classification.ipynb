{
 "cells": [
  {
   "cell_type": "code",
   "execution_count": 2,
   "metadata": {},
   "outputs": [],
   "source": [
    "### 下載tensorflow_datasets"
   ]
  },
  {
   "cell_type": "code",
   "execution_count": 1,
   "metadata": {},
   "outputs": [],
   "source": [
    "import numpy as np\n",
    "import tensorflow_datasets as tfds\n",
    "import tensorflow as tf\n",
    "import matplotlib.pyplot as plt\n",
    "tfds.disable_progress_bar()"
   ]
  },
  {
   "cell_type": "markdown",
   "metadata": {},
   "source": [
    "### 讀取資料\n",
    "- 使用TFDS(Google開源數據集)來下載IMDB資料，這個二元分類資料裡面有正負情緒資料"
   ]
  },
  {
   "cell_type": "code",
   "execution_count": 2,
   "metadata": {},
   "outputs": [],
   "source": [
    "dataset,info = tfds.load('imdb_reviews',with_info = True,\n",
    "                         as_supervised = True)\n",
    "\n",
    "train_dataset, test_dataset = dataset['train'],dataset['test']"
   ]
  },
  {
   "cell_type": "code",
   "execution_count": 3,
   "metadata": {},
   "outputs": [
    {
     "name": "stdout",
     "output_type": "stream",
     "text": [
      "text:  b\"This was an absolutely terrible movie. Don't be lured in by Christopher Walken or Michael Ironside. Both are great actors, but this must simply be their worst role in history. Even their great acting could not redeem this movie's ridiculous storyline. This movie is an early nineties US propaganda piece. The most pathetic scenes were those when the Columbian rebels were making their cases for revolutions. Maria Conchita Alonso appeared phony, and her pseudo-love affair with Walken was nothing but a pathetic emotional plug in a movie that was devoid of any real meaning. I am disappointed that there are movies like this, ruining actor's like Christopher Walken's good name. I could barely sit through it.\"\n",
      "label:  0\n"
     ]
    }
   ],
   "source": [
    "for example, label in train_dataset.take(1):\n",
    "    print('text: ',example.numpy())\n",
    "    print('label: ',label.numpy())\n",
    "    \n"
   ]
  },
  {
   "cell_type": "code",
   "execution_count": 4,
   "metadata": {},
   "outputs": [],
   "source": [
    "BUFFER_SIZE =1000\n",
    "BATCH_SIZE = 64\n"
   ]
  },
  {
   "cell_type": "code",
   "execution_count": 5,
   "metadata": {},
   "outputs": [],
   "source": [
    "train_dataset = train_dataset.shuffle(BUFFER_SIZE).batch(BATCH_SIZE).prefetch(tf.data.experimental.AUTOTUNE)\n",
    "test_dataset = test_dataset.batch(BATCH_SIZE).prefetch(tf.data.experimental.AUTOTUNE)\n",
    "#採用tf.data做資料儲存，可以比一般的傳遞方式快12倍，在TPU上更能快27倍的速度"
   ]
  },
  {
   "cell_type": "markdown",
   "metadata": {},
   "source": [
    "### Text Preprocessing\n",
    "\n",
    "- TextVectorization layer: turns raw strings into an encoded representation that can be read by an Embedding layer or Dense layer.\n",
    "\n",
    "\n",
    "- adapt() method: Some preprocessing layers have an internal state that must be computed based on a sample of the training data. Crucially, these layers are non-trainable. Their state is not set during training; it must be set before training, a step called \"adaptation\".\n"
   ]
  },
  {
   "cell_type": "code",
   "execution_count": 6,
   "metadata": {},
   "outputs": [],
   "source": [
    "VOCAB_SIZE = 1000\n",
    "encoder = tf.keras.layers.experimental.preprocessing.TextVectorization(max_tokens = VOCAB_SIZE)\n",
    "\n",
    "### similar to fit_transform\n",
    "encoder.adapt(train_dataset.map(lambda text,label:text))  ## only adapt text"
   ]
  },
  {
   "cell_type": "code",
   "execution_count": 7,
   "metadata": {},
   "outputs": [
    {
     "data": {
      "text/plain": [
       "array(['', '[UNK]', 'the', 'and', 'a', 'of', 'to', 'is', 'in', 'it', 'i',\n",
       "       'this', 'that', 'br', 'was', 'as', 'for', 'with', 'movie', 'but'],\n",
       "      dtype='<U14')"
      ]
     },
     "execution_count": 7,
     "metadata": {},
     "output_type": "execute_result"
    }
   ],
   "source": [
    "### Check the vocabulary list\n",
    "vocab = np.array(encoder.get_vocabulary())\n",
    "vocab[:20]"
   ]
  },
  {
   "cell_type": "code",
   "execution_count": 8,
   "metadata": {},
   "outputs": [
    {
     "data": {
      "text/plain": [
       "array([ 11,  14,  34, 412, 384,  18,  90,  28,   1,   8,  33,   1,   1,\n",
       "        42, 487,   1, 191,  24,  85, 152,  19,  11, 217, 316,  28,  65,\n",
       "       240, 214,   8, 489,  54,  65,  85, 112,  96,  22,   1,  11,  93,\n",
       "       642, 743,  11,  18,   7,  34, 394,   1, 170,   1, 408,   2,  88,\n",
       "         1, 137,  66, 144,  51,   2,   1,   1,  66, 245,  65,   1,  16,\n",
       "         1,   1,   1,   1,   1,   1,   3,  40,   1,   1,  17,   1,  14,\n",
       "       158,  19,   4,   1, 891,   1,   8,   4,  18,  12,  14,   1,   5,\n",
       "        99, 146,   1,  10, 237, 704,  12,  48,  24,  93,  39,  11,   1,\n",
       "       152,  39,   1,   1,  50, 398,  10,  96,   1, 851, 141,   9],\n",
       "      dtype=int64)"
      ]
     },
     "execution_count": 8,
     "metadata": {},
     "output_type": "execute_result"
    }
   ],
   "source": [
    "encoded_example = encoder(example).numpy()\n",
    "encoded_example\n"
   ]
  },
  {
   "cell_type": "markdown",
   "metadata": {},
   "source": [
    "### Model Training"
   ]
  },
  {
   "cell_type": "code",
   "execution_count": 11,
   "metadata": {},
   "outputs": [],
   "source": [
    "model = tf.keras.Sequential([\n",
    "    encoder,\n",
    "    tf.keras.layers.Embedding(len(encoder.get_vocabulary()),64,mask_zero = True),    #第一層一樣先做Embedding，效果比One-hot效果好\n",
    "    tf.keras.layers.Bidirectional(tf.keras.layers.LSTM(64,return_sequences = True)),  #透過一層RNN來包一個LSTM，其中64為單位的維度\n",
    "    tf.keras.layers.Bidirectional(tf.keras.layers.LSTM(32,)),   #透過一層RNN來包一個LSTM，其中32為單位的維度\n",
    "    tf.keras.layers.Dense(64,activation = 'relu'),  #做一層Relu，讓數據範圍控制在Relu範圍\n",
    "    tf.keras.layers.Dropout(0.5),\n",
    "    tf.keras.layers.Dense(1) #再做一層sigmoid做機率輸出\n",
    "])"
   ]
  },
  {
   "cell_type": "code",
   "execution_count": 12,
   "metadata": {},
   "outputs": [],
   "source": [
    "model.compile(loss=tf.keras.losses.BinaryCrossentropy(from_logits=True), \n",
    "              optimizer=tf.keras.optimizers.Adam(),\n",
    "              metrics=['accuracy'])"
   ]
  },
  {
   "cell_type": "code",
   "execution_count": 13,
   "metadata": {},
   "outputs": [
    {
     "name": "stdout",
     "output_type": "stream",
     "text": [
      "Epoch 1/10\n",
      "391/391 [==============================] - 39s 101ms/step - loss: 0.4494 - accuracy: 0.7669 - val_loss: 0.3423 - val_accuracy: 0.8578\n",
      "Epoch 2/10\n",
      "391/391 [==============================] - 37s 95ms/step - loss: 0.3562 - accuracy: 0.8445 - val_loss: 0.5024 - val_accuracy: 0.7089\n",
      "Epoch 3/10\n",
      "391/391 [==============================] - 37s 95ms/step - loss: 0.3840 - accuracy: 0.8351 - val_loss: 0.3327 - val_accuracy: 0.8536\n",
      "Epoch 4/10\n",
      "391/391 [==============================] - 38s 96ms/step - loss: 0.3360 - accuracy: 0.8540 - val_loss: 0.3389 - val_accuracy: 0.8562\n",
      "Epoch 5/10\n",
      "391/391 [==============================] - 37s 95ms/step - loss: 0.3195 - accuracy: 0.8613 - val_loss: 0.3466 - val_accuracy: 0.8552\n",
      "Epoch 6/10\n",
      "391/391 [==============================] - 37s 95ms/step - loss: 0.3057 - accuracy: 0.8668 - val_loss: 0.3342 - val_accuracy: 0.8526\n",
      "Epoch 7/10\n",
      "391/391 [==============================] - 37s 95ms/step - loss: 0.3136 - accuracy: 0.8624 - val_loss: 0.3436 - val_accuracy: 0.8500\n",
      "Epoch 8/10\n",
      "391/391 [==============================] - 37s 96ms/step - loss: 0.2911 - accuracy: 0.8735 - val_loss: 0.3342 - val_accuracy: 0.8604\n",
      "Epoch 9/10\n",
      "391/391 [==============================] - 37s 95ms/step - loss: 0.2668 - accuracy: 0.8857 - val_loss: 0.3312 - val_accuracy: 0.8599\n",
      "Epoch 10/10\n",
      "391/391 [==============================] - 37s 95ms/step - loss: 0.2561 - accuracy: 0.8907 - val_loss: 0.3289 - val_accuracy: 0.8516\n"
     ]
    }
   ],
   "source": [
    "history = model.fit(train_dataset, epochs=10,\n",
    "                    validation_data=test_dataset,\n",
    "                    validation_steps=30)"
   ]
  },
  {
   "cell_type": "code",
   "execution_count": 14,
   "metadata": {},
   "outputs": [
    {
     "name": "stdout",
     "output_type": "stream",
     "text": [
      "391/391 [==============================] - 17s 44ms/step - loss: 0.3270 - accuracy: 0.8548\n",
      "Test Loss: 0.3269905149936676\n",
      "Test Accuracy: 0.8548399806022644\n"
     ]
    }
   ],
   "source": [
    "test_loss, test_acc = model.evaluate(test_dataset)\n",
    "\n",
    "print('Test Loss: {}'.format(test_loss))\n",
    "print('Test Accuracy: {}'.format(test_acc))"
   ]
  },
  {
   "cell_type": "markdown",
   "metadata": {},
   "source": [
    "### Model evaluation"
   ]
  },
  {
   "cell_type": "code",
   "execution_count": 15,
   "metadata": {},
   "outputs": [
    {
     "name": "stdout",
     "output_type": "stream",
     "text": [
      "[[-5.258039]]\n"
     ]
    }
   ],
   "source": [
    "sample_text = ('The movie was not good. The animation and the graphics '\n",
    "                    'were terrible. I would not recommend this movie.')\n",
    "predictions = model.predict(np.array([sample_text]))\n",
    "print(predictions)\n",
    "\n",
    "#0以上為正面，0以下負面"
   ]
  },
  {
   "cell_type": "code",
   "execution_count": 16,
   "metadata": {},
   "outputs": [
    {
     "data": {
      "image/png": "[encoded data removed]",
      "text/plain": [
       "<Figure size 432x288 with 1 Axes>"
      ]
     },
     "metadata": {
      "needs_background": "light"
     },
     "output_type": "display_data"
    },
    {
     "data": {
      "image/png": "[encoded data removed]",
      "text/plain": [
       "<Figure size 432x288 with 1 Axes>"
      ]
     },
     "metadata": {
      "needs_background": "light"
     },
     "output_type": "display_data"
    }
   ],
   "source": [
    "plt.plot(history.history['accuracy'])\n",
    "plt.plot(history.history['val_accuracy'])\n",
    "plt.xlabel(\"Epochs\")\n",
    "plt.ylabel('accuracy')\n",
    "plt.legend(['accuracy', 'val_accuracy'])\n",
    "plt.show()\n",
    "plt.plot(history.history['loss'])\n",
    "plt.plot(history.history['val_loss'])\n",
    "plt.xlabel(\"Epochs\")\n",
    "plt.ylabel('loss')\n",
    "plt.legend(['loss', 'val_loss'])\n",
    "plt.show()"
   ]
  },
  {
   "cell_type": "code",
   "execution_count": null,
   "metadata": {},
   "outputs": [],
   "source": []
  }
 ],
 "metadata": {
  "kernelspec": {
   "display_name": "Python 3",
   "language": "python",
   "name": "python3"
  },
  "language_info": {
   "codemirror_mode": {
    "name": "ipython",
    "version": 3
   },
   "file_extension": ".py",
   "mimetype": "text/x-python",
   "name": "python",
   "nbconvert_exporter": "python",
   "pygments_lexer": "ipython3",
   "version": "3.7.6"
  }
 },
 "nbformat": 4,
 "nbformat_minor": 4
}
