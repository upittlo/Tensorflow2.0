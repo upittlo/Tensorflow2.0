{
 "cells": [
  {
   "cell_type": "code",
   "execution_count": 1,
   "metadata": {},
   "outputs": [],
   "source": [
    "import tensorflow as tf\n",
    "import matplotlib.pyplot as plt\n",
    "import matplotlib.ticker as ticker\n",
    "from sklearn.model_selection import train_test_split\n",
    "import unicodedata\n",
    "import re\n",
    "import numpy as np\n",
    "import os\n",
    "import io\n",
    "import time"
   ]
  },
  {
   "cell_type": "code",
   "execution_count": 2,
   "metadata": {},
   "outputs": [],
   "source": [
    "#西班牙文翻英文\n",
    "#資料來源http://www.manythings.org/anki/\n",
    "\n",
    "path_to_zip = tf.keras.utils.get_file(\n",
    "    'spa-eng.zip', origin='http://storage.googleapis.com/download.tensorflow.org/data/spa-eng.zip',\n",
    "    extract=True)\n",
    "\n",
    "path_to_file = os.path.dirname(path_to_zip)+\"/spa-eng/spa.txt\""
   ]
  },
  {
   "cell_type": "markdown",
   "metadata": {},
   "source": [
    "### Data preprocessing\n",
    "\n",
    "- 標準化編碼: unicodedata.normalize('NFD',s)\n",
    "\n",
    "    reference: https://blog.csdn.net/weixin_43866211/article/details/98384017\n",
    "</p><p/>\n",
    "- 將每個句子增加開始與結束標記\n",
    "- 刪除特殊符號\n",
    "- 建立單詞索引\n",
    "- 將句子進行填充"
   ]
  },
  {
   "cell_type": "code",
   "execution_count": 3,
   "metadata": {},
   "outputs": [],
   "source": [
    "def unicode_to_ascii(s):\n",
    "    return ''.join(c for c in unicodedata.normalize('NFD',s) if unicodedata.category(c) != 'Mn')\n",
    "    \n",
    "def preprocess_sentence(w):\n",
    "    w = unicode_to_ascii(w.lower().strip())\n",
    "    w = re.sub(r\"([?.!,¿])\", r\" \\1 \", w)\n",
    "    w = re.sub(r'[\" \"]+', \" \", w)\n",
    "    w = re.sub(r\"[^a-zA-Z?.!,¿]+\", \" \", w)\n",
    "    w = w.rstrip().strip()\n",
    "    w = '<start> ' + w + ' <end>' #開始與結束\n",
    "    return w\n",
    "    "
   ]
  },
  {
   "cell_type": "code",
   "execution_count": 4,
   "metadata": {},
   "outputs": [
    {
     "name": "stdout",
     "output_type": "stream",
     "text": [
      "<start> may i borrow this book ? <end>\n",
      "b'<start> \\xc2\\xbf puedo tomar prestado este libro ? <end>'\n"
     ]
    }
   ],
   "source": [
    "## Test result\n",
    "en_sentence = u\"May I borrow this book?\"\n",
    "sp_sentence = u\"¿Puedo tomar prestado este libro?\"\n",
    "print(preprocess_sentence(en_sentence))\n",
    "print(preprocess_sentence(sp_sentence).encode('utf-8'))"
   ]
  },
  {
   "cell_type": "markdown",
   "metadata": {},
   "source": [
    "- 清除重音\n",
    "- 清理句子\n",
    "- 整理回傳的句子\n",
    "\n",
    "#### Note: fit_on_texts, when applied on a string text, its attributes produce different types of results\n",
    "\n",
    "- tokenizer 可用 index_word將數字轉回文字"
   ]
  },
  {
   "cell_type": "code",
   "execution_count": 5,
   "metadata": {},
   "outputs": [],
   "source": [
    "def create_dataset(path,num_examples):\n",
    "    lines = io.open(path,encoding = 'UTF-8').read().strip().split('\\n')\n",
    "    word_pairs = [[preprocess_sentence(w) for w in l.split('\\t')] for l in lines[:num_examples]]\n",
    "    \n",
    "    return zip(*word_pairs)"
   ]
  },
  {
   "cell_type": "code",
   "execution_count": 6,
   "metadata": {},
   "outputs": [
    {
     "name": "stdout",
     "output_type": "stream",
     "text": [
      "<start> if you want to sound like a native speaker , you must be willing to practice saying the same sentence over and over in the same way that banjo players practice the same phrase over and over until they can play it correctly and at the desired tempo . <end>\n",
      "<start> si quieres sonar como un hablante nativo , debes estar dispuesto a practicar diciendo la misma frase una y otra vez de la misma manera en que un musico de banjo practica el mismo fraseo una y otra vez hasta que lo puedan tocar correctamente y en el tiempo esperado . <end>\n"
     ]
    }
   ],
   "source": [
    "en, sp = create_dataset(path_to_file,None)\n",
    "print(en[-1])\n",
    "print(sp[-1])\n"
   ]
  },
  {
   "cell_type": "code",
   "execution_count": 7,
   "metadata": {},
   "outputs": [],
   "source": [
    "def max_length(tensor):\n",
    "    return max(len(t) for t in tensor)\n",
    "\n",
    "def tokenize(lang):\n",
    "    lang_tokenizer = tf.keras.preprocessing.text.Tokenizer(\n",
    "      filters='')\n",
    "    lang_tokenizer.fit_on_texts(lang)\n",
    "    tensor = lang_tokenizer.texts_to_sequences(lang)\n",
    "    tensor = tf.keras.preprocessing.sequence.pad_sequences(tensor,padding = 'post')\n",
    "    \n",
    "    return tensor,lang_tokenizer\n",
    "\n",
    "def load_dataset(path,num_examples = None):\n",
    "    \n",
    "    ## input,output pairs\n",
    "    targ_lang,inp_lang = create_dataset(path,num_examples)\n",
    "    input_tensor,inp_lang_tokenizer = tokenize(inp_lang)\n",
    "    target_tensor,targ_lang_tokenizer = tokenize(targ_lang)\n",
    "    \n",
    "    return input_tensor, target_tensor, inp_lang_tokenizer,targ_lang_tokenizer\n",
    "\n"
   ]
  },
  {
   "cell_type": "code",
   "execution_count": 8,
   "metadata": {},
   "outputs": [],
   "source": [
    "num_examples = 30000\n",
    "input_tensor,target_tensor,inp_lang,targ_lang = load_dataset(path_to_file,num_examples)\n",
    "max_length_targ,max_length_inp = max_length(target_tensor), max_length(input_tensor)   #計算最大長度的張量\n"
   ]
  },
  {
   "cell_type": "code",
   "execution_count": 9,
   "metadata": {},
   "outputs": [
    {
     "data": {
      "text/plain": [
       "(24000, 24000, 6000, 6000)"
      ]
     },
     "execution_count": 9,
     "metadata": {},
     "output_type": "execute_result"
    }
   ],
   "source": [
    "# 拆分80%訓練、20%測試\n",
    "input_tensor_train, input_tensor_val, target_tensor_train, target_tensor_val = train_test_split(input_tensor, target_tensor, test_size=0.2)\n",
    "\n",
    "# 確認長度\n",
    "len(input_tensor_train), len(target_tensor_train), len(input_tensor_val), len(target_tensor_val)"
   ]
  },
  {
   "cell_type": "markdown",
   "metadata": {},
   "source": [
    "### index to word function"
   ]
  },
  {
   "cell_type": "code",
   "execution_count": 10,
   "metadata": {},
   "outputs": [
    {
     "name": "stdout",
     "output_type": "stream",
     "text": [
      "輸入; 文字索引\n",
      "1 ----> <start>\n",
      "2020 ----> eh\n",
      "27 ----> !\n",
      "32 ----> ,\n",
      "8 ----> no\n",
      "52 ----> eres\n",
      "4 ----> tom\n",
      "3 ----> .\n",
      "2 ----> <end>\n",
      "\n",
      "目標; 文字索引\n",
      "1 ----> <start>\n",
      "584 ----> hey\n",
      "49 ----> ,\n",
      "6 ----> you\n",
      "23 ----> re\n",
      "34 ----> not\n",
      "5 ----> tom\n",
      "3 ----> .\n",
      "2 ----> <end>\n"
     ]
    }
   ],
   "source": [
    "def convert(lang,tensor):\n",
    "    for t in tensor:\n",
    "        if t!=0:\n",
    "            print(\"%d ----> %s\" % (t, lang.index_word[t]))\n",
    "            \n",
    "print (\"輸入; 文字索引\")\n",
    "convert(inp_lang, input_tensor_train[0])\n",
    "print ()\n",
    "print (\"目標; 文字索引\")\n",
    "convert(targ_lang, target_tensor_train[0])"
   ]
  },
  {
   "cell_type": "code",
   "execution_count": 11,
   "metadata": {},
   "outputs": [
    {
     "data": {
      "text/plain": [
       "24000"
      ]
     },
     "execution_count": 11,
     "metadata": {},
     "output_type": "execute_result"
    }
   ],
   "source": [
    "len(input_tensor_train)"
   ]
  },
  {
   "cell_type": "code",
   "execution_count": 12,
   "metadata": {},
   "outputs": [],
   "source": [
    "#透過tf.data，將input_tensor_train與target_tensor_train做資料整理，以提升運算效率\n",
    "\n",
    "BUFFER_SIZE = len(input_tensor_train)\n",
    "#依據input_tensor_train筆數建立BUFFER，進行shuffle\n",
    "BATCH_SIZE = 64\n",
    "#取整數作為每一次epoch的steps\n",
    "steps_per_epoch = len(input_tensor_train)//BATCH_SIZE \n",
    "embedding_dim = 256\n",
    "#GRU的單元數\n",
    "units = 1024\n",
    "\n",
    "#預測內容是西班牙文，預測目標是英文\n",
    "vocab_inp_size = len(inp_lang.word_index)+1\n",
    "vocab_tar_size = len(targ_lang.word_index)+1\n",
    "\n",
    "dataset = tf.data.Dataset.from_tensor_slices((input_tensor_train,target_tensor_train)).shuffle(BUFFER_SIZE)\n",
    "dataset = dataset.batch(BATCH_SIZE,drop_remainder = True)\n"
   ]
  },
  {
   "cell_type": "code",
   "execution_count": 13,
   "metadata": {},
   "outputs": [
    {
     "data": {
      "text/plain": [
       "(24000, 16)"
      ]
     },
     "execution_count": 13,
     "metadata": {},
     "output_type": "execute_result"
    }
   ],
   "source": [
    "input_tensor_train.shape"
   ]
  },
  {
   "cell_type": "code",
   "execution_count": 14,
   "metadata": {},
   "outputs": [
    {
     "data": {
      "text/plain": [
       "(24000, 11)"
      ]
     },
     "execution_count": 14,
     "metadata": {},
     "output_type": "execute_result"
    }
   ],
   "source": [
    "target_tensor_train.shape"
   ]
  },
  {
   "cell_type": "code",
   "execution_count": 15,
   "metadata": {},
   "outputs": [
    {
     "data": {
      "text/plain": [
       "(<tf.Tensor: shape=(64, 16), dtype=int32, numpy=\n",
       " array([[   1,   25, 5737, ...,    0,    0,    0],\n",
       "        [   1,    8,  839, ...,    0,    0,    0],\n",
       "        [   1,   28, 1092, ...,    0,    0,    0],\n",
       "        ...,\n",
       "        [   1,    6,   46, ...,    0,    0,    0],\n",
       "        [   1,    6,   22, ...,    0,    0,    0],\n",
       "        [   1,  277, 1277, ...,    0,    0,    0]])>,\n",
       " <tf.Tensor: shape=(64, 11), dtype=int32, numpy=\n",
       " array([[   1,   27,  760, 1402,    3,    2,    0,    0,    0,    0,    0],\n",
       "        [   1,   30,   12,  450,  190,    3,    2,    0,    0,    0,    0],\n",
       "        [   1,   20,   38,   73,    3,    2,    0,    0,    0,    0,    0],\n",
       "        [   1,   32,   24,  247,   54,    7,    2,    0,    0,    0,    0],\n",
       "        [   1,    4,   35,  618,    3,    2,    0,    0,    0,    0,    0],\n",
       "        [   1,   27,  968,   41,    3,    2,    0,    0,    0,    0,    0],\n",
       "        [   1,    6,   24, 1797,    3,    2,    0,    0,    0,    0,    0],\n",
       "        [   1,  177,   52,    4,   22,   10,    3,    2,    0,    0,    0],\n",
       "        [   1,   14,  173,   17,    9, 2527,    3,    2,    0,    0,    0],\n",
       "        [   1,   19,  831,    8,  198,    3,    2,    0,    0,    0,    0],\n",
       "        [   1,    6,   23,  326,    3,    2,    0,    0,    0,    0,    0],\n",
       "        [   1,   56,  497,   17,    3,    2,    0,    0,    0,    0,    0],\n",
       "        [   1,    8,   19,  424,    7,    2,    0,    0,    0,    0,    0],\n",
       "        [   1,    5,  270,  115,    3,    2,    0,    0,    0,    0,    0],\n",
       "        [   1,    6,   24,  155,    3,    2,    0,    0,    0,    0,    0],\n",
       "        [   1,   14,   11,    9,  443,  159,    3,    2,    0,    0,    0],\n",
       "        [   1,   10,   11,   34, 1605,    3,    2,    0,    0,    0,    0],\n",
       "        [   1,   32,   16,   63,    8,   73,    3,    2,    0,    0,    0],\n",
       "        [   1,   60, 1309,  119,   20,    7,    2,    0,    0,    0,    0],\n",
       "        [   1,    4,  257,    6,   85,    3,    2,    0,    0,    0,    0],\n",
       "        [   1,    4,   42,   20,  355,  265,    3,    2,    0,    0,    0],\n",
       "        [   1,   75,    6,   73,   17,    7,    2,    0,    0,    0,    0],\n",
       "        [   1,   22,   34,   53,   39,    3,    2,    0,    0,    0,    0],\n",
       "        [   1,    6,   24,   13,   84,    3,    2,    0,    0,    0,    0],\n",
       "        [   1,    4,  222, 2325,    3,    2,    0,    0,    0,    0,    0],\n",
       "        [   1,   10,   11, 1221,   17,  275,    3,    2,    0,    0,    0],\n",
       "        [   1, 2133,   35, 1971,    3,    2,    0,    0,    0,    0,    0],\n",
       "        [   1,   27, 1056,  109,    3,    2,    0,    0,    0,    0,    0],\n",
       "        [   1,    8,   14,   91,  210,    7,    2,    0,    0,    0,    0],\n",
       "        [   1,   21,  226,   26,  148,    3,    2,    0,    0,    0,    0],\n",
       "        [   1,    5,   11,  348,    3,    2,    0,    0,    0,    0,    0],\n",
       "        [   1, 1015,   37,    2,    0,    0,    0,    0,    0,    0,    0],\n",
       "        [   1,    4,   62, 1089,   59,  341,    3,    2,    0,    0,    0],\n",
       "        [   1,    4,   25, 1305,    3,    2,    0,    0,    0,    0,    0],\n",
       "        [   1,   39,   49,  207,   19,    3,    2,    0,    0,    0,    0],\n",
       "        [   1,   27,    8,   70,    9,  466,    3,    2,    0,    0,    0],\n",
       "        [   1,  187,   11,  991,    3,    2,    0,    0,    0,    0,    0],\n",
       "        [   1,   27,   51,  306, 1553,    3,    2,    0,    0,    0,    0],\n",
       "        [   1,   10,   11,  664,    3,    2,    0,    0,    0,    0,    0],\n",
       "        [   1,    4,  321,  314,   15,   41,    3,    2,    0,    0,    0],\n",
       "        [   1,   27,  121,   15,  295,    3,    2,    0,    0,    0,    0],\n",
       "        [   1,    5,   42,   10,   44,   61,  432,    3,    2,    0,    0],\n",
       "        [   1,    5, 1225,   61,  995,    3,    2,    0,    0,    0,    0],\n",
       "        [   1,   32,   92,    6, 1171,    7,    2,    0,    0,    0,    0],\n",
       "        [   1,   98,   17,   79, 1857,    3,    2,    0,    0,    0,    0],\n",
       "        [   1,    5,  386,   81,    9,  153,    3,    2,    0,    0,    0],\n",
       "        [   1,    6,  292,   40,  107,    3,    2,    0,    0,    0,    0],\n",
       "        [   1,    4,   29,  105,   13,  385,    3,    2,    0,    0,    0],\n",
       "        [   1,    8,   10,  263,    7,    2,    0,    0,    0,    0,    0],\n",
       "        [   1,   27,  366,   15,  246,    3,    2,    0,    0,    0,    0],\n",
       "        [   1,   22,    6,   47,    9, 1802,    7,    2,    0,    0,    0],\n",
       "        [   1,   19,  467,    8,  248,    3,    2,    0,    0,    0,    0],\n",
       "        [   1,   16,   87,   12,  171,    3,    2,    0,    0,    0,    0],\n",
       "        [   1,   57,    8,    9, 2498,    3,    2,    0,    0,    0,    0],\n",
       "        [   1,   66,   84,   75,  192,    6,    3,    2,    0,    0,    0],\n",
       "        [   1,  314,  409,   49,   56,    3,    2,    0,    0,    0,    0],\n",
       "        [   1,    4,  209,   42,   21,  729,    3,    2,    0,    0,    0],\n",
       "        [   1,    4,   38,   73,    5,    3,    2,    0,    0,    0,    0],\n",
       "        [   1,   14,  598,   42,   10,    3,    2,    0,    0,    0,    0],\n",
       "        [   1,    6,  117,   10,    3,    2,    0,    0,    0,    0,    0],\n",
       "        [   1,    8,    5,   89,    7,    2,    0,    0,    0,    0,    0],\n",
       "        [   1,   60, 1524,    6,    7,    2,    0,    0,    0,    0,    0],\n",
       "        [   1,   82,   24,   16,  378,    7,    2,    0,    0,    0,    0],\n",
       "        [   1,   16, 2157,   31,   73,    3,    2,    0,    0,    0,    0]])>)"
      ]
     },
     "execution_count": 15,
     "metadata": {},
     "output_type": "execute_result"
    }
   ],
   "source": [
    "next(iter(dataset))"
   ]
  },
  {
   "cell_type": "code",
   "execution_count": 16,
   "metadata": {},
   "outputs": [
    {
     "data": {
      "text/plain": [
       "(TensorShape([64, 16]), TensorShape([64, 11]))"
      ]
     },
     "execution_count": 16,
     "metadata": {},
     "output_type": "execute_result"
    }
   ],
   "source": [
    "#生成迭代器觀察內容與目標\n",
    "example_input_batch,example_target_batch = next(iter(dataset))\n",
    "example_input_batch.shape,example_target_batch.shape"
   ]
  },
  {
   "cell_type": "code",
   "execution_count": 17,
   "metadata": {},
   "outputs": [
    {
     "data": {
      "text/plain": [
       "<tf.Tensor: shape=(64, 11), dtype=int32, numpy=\n",
       "array([[   1,   28,   23,  186,    3,    2,    0,    0,    0,    0,    0],\n",
       "       [   1,   28,  135,  225,    3,    2,    0,    0,    0,    0,    0],\n",
       "       [   1,   13, 2904,    8,  297,    3,    2,    0,    0,    0,    0],\n",
       "       [   1,  703,  176,   12, 1115,    3,    2,    0,    0,    0,    0],\n",
       "       [   1,  379,   11,  348,    3,    2,    0,    0,    0,    0,    0],\n",
       "       [   1,    4,  656,   12, 1110,  358,    3,    2,    0,    0,    0],\n",
       "       [   1,   10,   11,  219,  248,  219,   20,    3,    2,    0,    0],\n",
       "       [   1,   10,  106,  478,    3,    2,    0,    0,    0,    0,    0],\n",
       "       [   1,   14,   25,  174,  163,  317,    3,    2,    0,    0,    0],\n",
       "       [   1,   22,    6,   43,   68,    7,    2,    0,    0,    0,    0],\n",
       "       [   1,    4,   75, 1905,    6,    3,    2,    0,    0,    0,    0],\n",
       "       [   1,   19,    8,  155,  501,    3,    2,    0,    0,    0,    0],\n",
       "       [   1,    4,  251,   15,  174,  126,    3,    2,    0,    0,    0],\n",
       "       [   1,    4,   70,  384,   58,    3,    2,    0,    0,    0,    0],\n",
       "       [   1,   26,    4,  184,    7,    2,    0,    0,    0,    0,    0],\n",
       "       [   1,   27,    8,   21, 1296,    3,    2,    0,    0,    0,    0],\n",
       "       [   1,   24,    6,  645,    7,    2,    0,    0,    0,    0,    0],\n",
       "       [   1,    4,   18,  762, 1465,    3,    2,    0,    0,    0,    0],\n",
       "       [   1,    4,   43,   71,   15,  264,    3,    2,    0,    0,    0],\n",
       "       [   1,   64, 1114,    3,    2,    0,    0,    0,    0,    0,    0],\n",
       "       [   1,   14,    8,    9,  640,  159,    3,    2,    0,    0,    0],\n",
       "       [   1,   32,   24,    6,   69,   55,    7,    2,    0,    0,    0],\n",
       "       [   1,   62,    4,  933,  462,    7,    2,    0,    0,    0,    0],\n",
       "       [   1,   86, 2177,   17,    3,    2,    0,    0,    0,    0,    0],\n",
       "       [   1,   10,   26,  130,  214,    3,    2,    0,    0,    0,    0],\n",
       "       [   1,    4,   38,   72,    6,  916,    3,    2,    0,    0,    0],\n",
       "       [   1, 2206, 3682,    3,    2,    0,    0,    0,    0,    0,    0],\n",
       "       [   1,   10,   26,   21,  259,    3,    2,    0,    0,    0,    0],\n",
       "       [   1,   22,    6,   47,   41,    7,    2,    0,    0,    0,    0],\n",
       "       [   1,   22,    6,   47,    9,  356,    7,    2,    0,    0,    0],\n",
       "       [   1,   30,   12,   40,  193,    3,    2,    0,    0,    0,    0],\n",
       "       [   1,    6,   23,  559,    3,    2,    0,    0,    0,    0,    0],\n",
       "       [   1,   42,    6,  481,   41,    7,    2,    0,    0,    0,    0],\n",
       "       [   1,   39,   49,  125,   10,   44,    3,    2,    0,    0,    0],\n",
       "       [   1,    5,   25,  368,  101,   58,    3,    2,    0,    0,    0],\n",
       "       [   1,  441,   10,   25,   40, 1002,    3,    2,    0,    0,    0],\n",
       "       [   1,   68,  189,    8,   33,  592,    3,    2,    0,    0,    0],\n",
       "       [   1,   14,  179,   68,    3,    2,    0,    0,    0,    0,    0],\n",
       "       [   1,   16,  250,   68,  309,    3,    2,    0,    0,    0,    0],\n",
       "       [   1,  806,  195,    3,    2,    0,    0,    0,    0,    0,    0],\n",
       "       [   1,   16,   29,  140,    3,    2,    0,    0,    0,    0,    0],\n",
       "       [   1,   14,   51,    9,  427,   44,    3,    2,    0,    0,    0],\n",
       "       [   1,   14, 2258,   61,  565,    3,    2,    0,    0,    0,    0],\n",
       "       [   1,   13,  515,    8,  197,    3,    2,    0,    0,    0,    0],\n",
       "       [   1,   10,    8,   34,    9,  177,    3,    2,    0,    0,    0],\n",
       "       [   1,   32,   24,  247,   54,    7,    2,    0,    0,    0,    0],\n",
       "       [   1,   16,   38,  422,    3,    2,    0,    0,    0,    0,    0],\n",
       "       [   1,  462,   24,  308,    3,    2,    0,    0,    0,    0,    0],\n",
       "       [   1,    5,    8,    9, 3800,    3,    2,    0,    0,    0,    0],\n",
       "       [   1,   46,   11, 1025,    5,    3,    2,    0,    0,    0,    0],\n",
       "       [   1,   16,   65,  362,   68,    3,    2,    0,    0,    0,    0],\n",
       "       [   1,    6,   29,  140,  300,    3,    2,    0,    0,    0,    0],\n",
       "       [   1,   27,  276,   67,  437,    3,    2,    0,    0,    0,    0],\n",
       "       [   1, 1607,   31,  710,    3,    2,    0,    0,    0,    0,    0],\n",
       "       [   1,   20,   11, 4460,    3,    2,    0,    0,    0,    0,    0],\n",
       "       [   1,   24,    6,  612,   55,   17,    7,    2,    0,    0,    0],\n",
       "       [   1,   27,   51,  701,  325,    3,    2,    0,    0,    0,    0],\n",
       "       [   1,   71,   11,   13,  422,    7,    2,    0,    0,    0,    0],\n",
       "       [   1,   10,   90,   12,    9,  370,    3,    2,    0,    0,    0],\n",
       "       [   1,   30,   12,   36,   85,  224,   37,    2,    0,    0,    0],\n",
       "       [   1,    5,  121,  408,  215,    3,    2,    0,    0,    0,    0],\n",
       "       [   1,    4,  114,   27,    8,  232,    3,    2,    0,    0,    0],\n",
       "       [   1,   13, 4856,  338,  594,    3,    2,    0,    0,    0,    0],\n",
       "       [   1,    4,   38,   40,   48,  630,    3,    2,    0,    0,    0]])>"
      ]
     },
     "execution_count": 17,
     "metadata": {},
     "output_type": "execute_result"
    }
   ],
   "source": [
    "example_target_batch"
   ]
  },
  {
   "cell_type": "markdown",
   "metadata": {},
   "source": [
    "## Encoder "
   ]
  },
  {
   "cell_type": "code",
   "execution_count": 18,
   "metadata": {},
   "outputs": [],
   "source": [
    "class Encoder(tf.keras.Model):\n",
    "    def __init__(self,vocab_size,embedding_dim,enc_units,batch_sz):\n",
    "        super(Encoder,self).__init__()\n",
    "        self.batch_sz = batch_sz  #BATCH_SIZE\n",
    "        self.enc_units = enc_units\n",
    "        self.embedding = tf.keras.layers.Embedding(vocab_size,embedding_dim) #每一個單詞轉為Embedding\n",
    "        self.gru = tf.keras.layers.GRU(self.enc_units,\n",
    "                                      return_sequences = True,\n",
    "                                      return_state = True,\n",
    "                                      recurrent_initializer = 'glorot_uniform')  #均勻初始化\n",
    "        \n",
    "    def call(self,x,hidden): #做一層embedding+GRU\n",
    "        x = self.embedding(x)\n",
    "        output,state = self.gru(x,initial_state = hidden) #每一次初始化為Hidden的變數\n",
    "        \n",
    "        return output,state\n",
    "    \n",
    "    def initialize_hidden_state(self): # 建立空的初始化\n",
    "        return tf.zeros((self.batch_sz,self.enc_units))\n",
    "    \n"
   ]
  },
  {
   "cell_type": "code",
   "execution_count": 19,
   "metadata": {},
   "outputs": [
    {
     "name": "stdout",
     "output_type": "stream",
     "text": [
      "Encoder output shape: (batch size, sequence length, units) (64, 16, 1024)\n",
      "Encoder Hidden state shape: (batch size, units) (64, 1024)\n"
     ]
    }
   ],
   "source": [
    "encoder = Encoder(vocab_inp_size,embedding_dim,units,BATCH_SIZE) #依據vocab_inp_size、embedding_dim、單元數、BATCH_SIZE建立Encoder\n",
    "\n",
    "# 輸入的樣本\n",
    "\n",
    "sample_hidden = encoder.initialize_hidden_state() #依據Batch_sz與enc_units初始化\n",
    "sample_output,sample_hidden = encoder(example_input_batch,sample_hidden)  #觀察一下預測內容與具備GRU單元數的隱藏層樣態\n",
    "print ('Encoder output shape: (batch size, sequence length, units) {}'.format(sample_output.shape)) #sample_output（批次大小、訓練資料長度、單元數）\n",
    "print ('Encoder Hidden state shape: (batch size, units) {}'.format(sample_hidden.shape)) #sample_hidden（批次大小、單元數）"
   ]
  },
  {
   "cell_type": "markdown",
   "metadata": {},
   "source": [
    "## Attention Layer"
   ]
  },
  {
   "cell_type": "code",
   "execution_count": 20,
   "metadata": {},
   "outputs": [],
   "source": [
    "class BahdanauAttention(tf.keras.Model):\n",
    "    def __init__(self,units):\n",
    "        super(BahdanauAttention,self).__init__() #繼承TF的BahdanauAttention\n",
    "        self.W1 = tf.keras.layers.Dense(units) #依據GRU的單元數進行Dense\n",
    "        self.W2 = tf.keras.layers.Dense(units)\n",
    "        self.V = tf.keras.layers.Dense(1)\n",
    "        \n",
    "    def call(self,query,values):\n",
    "         # 執行加法計算分數，先將讓query多一個維度，相加之後做一個tanh，獲得分數，score = FC(tanh(FC(EO) + FC(H)))\n",
    "            \n",
    "        hidden_with_time_axis = tf.expand_dims(query,1)\n",
    "        score = self.V(tf.nn.tanh(self.W1(values)+self.W2(hidden_with_time_axis)))\n",
    "         # attention weights = softmax(score, axis = 1) \n",
    "        attention_weights = tf.nn.softmax(score,axis = 1)\n",
    "        # context_vector = sum(attention weights * EO, axis = 1)\n",
    "        context_vector = attention_weights * values\n",
    "        context_vector = tf.reduce_sum(context_vector,axis = 1)\n",
    "        \n",
    "        return context_vector,attention_weights\n",
    "\n"
   ]
  },
  {
   "cell_type": "code",
   "execution_count": 21,
   "metadata": {},
   "outputs": [
    {
     "name": "stdout",
     "output_type": "stream",
     "text": [
      "Attention result shape: (batch size, units) (64, 1024)\n",
      "Attention weights shape: (batch_size, sequence_length, 1) (64, 16, 1)\n"
     ]
    }
   ],
   "source": [
    "attention_layer = BahdanauAttention(10) #Attention的強度\n",
    "attention_result,attention_weights = attention_layer(sample_hidden,sample_output) #將初始化空的sample_hidden與要進行預測內容\n",
    "print(\"Attention result shape: (batch size, units) {}\".format(attention_result.shape))\n",
    "print(\"Attention weights shape: (batch_size, sequence_length, 1) {}\".format(attention_weights.shape))"
   ]
  },
  {
   "cell_type": "markdown",
   "metadata": {},
   "source": [
    "### Decoder Model"
   ]
  },
  {
   "cell_type": "code",
   "execution_count": 26,
   "metadata": {},
   "outputs": [],
   "source": [
    "class Decoder(tf.keras.Model):\n",
    "    def __init__(self,vocab_size,embedding_dim,dec_units,batch_sz): #詞彙、embedding維度、單元數、批次大小\n",
    "        super(Decoder,self).__init__()\n",
    "        self.batch_sz = batch_sz\n",
    "        self.dec_units = dec_units\n",
    "        self.embedding =tf.keras.layers.Embedding(vocab_size,embedding_dim)\n",
    "        self.gru = tf.keras.layers.GRU(self.dec_units,\n",
    "                                      return_sequences = True,\n",
    "                                      return_state = True,\n",
    "                                      recurrent_initializer = 'glorot_uniform')\n",
    "        self.fc = tf.keras.layers.Dense(vocab_size)\n",
    "        self.attention = BahdanauAttention(self.dec_units)\n",
    "        \n",
    "    def call(self,x,hidden,enc_output):\n",
    "        # 透過BahdanauAttention建立context_vector、attention_weights\n",
    "        \n",
    "        context_vector,attention_weights = self.attention(hidden,enc_output)\n",
    "        \n",
    "        # 做一次embedding\n",
    "        \n",
    "        x = self.embedding(x)\n",
    "        \n",
    "        x = tf.concat([tf.expand_dims(context_vector,1),x],axis = -1)\n",
    "        \n",
    "        # 將x給GRU計算後回報結果與狀態\n",
    "        output,state = self.gru(x)\n",
    "        \n",
    "        # 資料維度整理\n",
    "        output = tf.reshape(output,(-1,output.shape[2]))\n",
    "        \n",
    "        # 做線性轉換後輸出\n",
    "        \n",
    "        x = self.fc(output)\n",
    "        \n",
    "        return x,state,attention_weights\n",
    "    \n"
   ]
  },
  {
   "cell_type": "code",
   "execution_count": 27,
   "metadata": {},
   "outputs": [
    {
     "name": "stdout",
     "output_type": "stream",
     "text": [
      "Decoder output shape: (batch_size, vocab size) (64, 4935)\n"
     ]
    }
   ],
   "source": [
    "decoder = Decoder(vocab_tar_size, embedding_dim, units, BATCH_SIZE) #依據詞彙、embedding維度、單元數、批次大小進行Decoder\n",
    "\n",
    "sample_decoder_output, _, _ = decoder(tf.random.uniform((64, 1)), #隨機產生批次大小的資料作為起始值、sample_hidden初始值、預測內容\n",
    "                                      sample_hidden, sample_output)\n",
    "print ('Decoder output shape: (batch_size, vocab size) {}'.format(sample_decoder_output.shape))"
   ]
  },
  {
   "cell_type": "markdown",
   "metadata": {},
   "source": [
    "### Model Compile"
   ]
  },
  {
   "cell_type": "code",
   "execution_count": 28,
   "metadata": {},
   "outputs": [],
   "source": [
    "optimizer = tf.keras.optimizers.Adam()\n",
    "loss_object = tf.keras.losses.SparseCategoricalCrossentropy(\n",
    "                from_logits = True,reduction = 'none')\n",
    "\n",
    "def loss_function(real,pred):\n",
    "    mask = tf.math.logical_not(tf.math.equal(real,0)) #將數字轉換為邏輯值\n",
    "    loss_ = loss_object(real,pred) #透過loss_object做Crossentropy計算\n",
    "    #透過tf.cast做函數轉換，如：1轉True\n",
    "    mask = tf.cast(mask,dtype = loss_.dtype)\n",
    "    \n",
    "    loss_ *=mask\n",
    "    \n",
    "    return tf.reduce_mean(loss_)\n",
    "    "
   ]
  },
  {
   "cell_type": "code",
   "execution_count": 29,
   "metadata": {},
   "outputs": [],
   "source": [
    "#記錄每一次計算的Checkpoints\n",
    "checkpoint_dir = './training_checkpoints'\n",
    "checkpoint_prefix = os.path.join(checkpoint_dir, \"ckpt\")\n",
    "checkpoint = tf.train.Checkpoint(optimizer=optimizer,\n",
    "                                 encoder=encoder,\n",
    "                                 decoder=decoder)"
   ]
  },
  {
   "cell_type": "code",
   "execution_count": 30,
   "metadata": {},
   "outputs": [],
   "source": [
    "@tf.function #加上tf.function修飾器\n",
    "\n",
    "def train_step(inp,targ,enc_hidden):\n",
    "    \n",
    "    loss = 0\n",
    "    \n",
    "    with tf.GradientTape() as tape:\n",
    "        #通過編碼器傳遞輸入，編碼器產生「編碼器輸出」和「編碼器隱藏狀態」。\n",
    "        enc_output,enc_hidden = encoder(inp,enc_hidden)\n",
    "        \n",
    "        #將「編碼器隱藏狀態」傳給「解碼器的隱藏狀態」\n",
    "        dec_hidden = enc_hidden\n",
    "        \n",
    "        dec_input = tf.expand_dims([targ_lang.word_index['<start>']] * BATCH_SIZE,1)\n",
    "        \n",
    "        \n",
    "        # 將預測結果作為下一個輸入\n",
    "        \n",
    "        for t in range(1,targ.shape[1]):\n",
    "            # 解碼器返回「預測值」和「解碼器隱藏狀態」。\n",
    "            \n",
    "            predictions,dec_hidden,_ = decoder(dec_input,dec_hidden,enc_output)\n",
    "            \n",
    "             # 將答案與predictions做Loss計算\n",
    "                \n",
    "            loss += loss_function(targ[:,t],predictions)\n",
    "            \n",
    "            # 將預測目標，作為下一個解碼器dec_input的輸入\n",
    "            \n",
    "    batch_loss = (loss / int(targ.shape[1]))\n",
    "        \n",
    "    variables = encoder.trainable_variables + decoder.trainable_variables\n",
    "        \n",
    "        #紀錄每一次的自動微分結果\n",
    "    gradients = tape.gradient(loss,variables)\n",
    "        \n",
    "        #進行優化器計算\n",
    "        \n",
    "    optimizer.apply_gradients(zip(gradients,variables))\n",
    "        \n",
    "    return batch_loss\n",
    "    \n"
   ]
  },
  {
   "cell_type": "code",
   "execution_count": 31,
   "metadata": {
    "scrolled": true
   },
   "outputs": [
    {
     "name": "stdout",
     "output_type": "stream",
     "text": [
      "Epoch 1 Batch 0 Loss 4.6268\n",
      "Epoch 1 Batch 100 Loss 2.3243\n",
      "Epoch 1 Batch 200 Loss 2.2149\n",
      "Epoch 1 Batch 300 Loss 2.1368\n",
      "Epoch 1 Loss 2.3686\n",
      "Time taken for 1 epoch 27.534215927124023 sec\n",
      "\n",
      "Epoch 2 Batch 0 Loss 1.8826\n",
      "Epoch 2 Batch 100 Loss 1.9751\n",
      "Epoch 2 Batch 200 Loss 1.8416\n",
      "Epoch 2 Batch 300 Loss 1.6975\n",
      "Epoch 2 Loss 1.8477\n",
      "Time taken for 1 epoch 19.8075430393219 sec\n",
      "\n",
      "Epoch 3 Batch 0 Loss 1.6714\n",
      "Epoch 3 Batch 100 Loss 1.5202\n",
      "Epoch 3 Batch 200 Loss 1.5141\n",
      "Epoch 3 Batch 300 Loss 1.5121\n",
      "Epoch 3 Loss 1.5173\n",
      "Time taken for 1 epoch 19.821372509002686 sec\n",
      "\n",
      "Epoch 4 Batch 0 Loss 1.3062\n",
      "Epoch 4 Batch 100 Loss 1.2983\n",
      "Epoch 4 Batch 200 Loss 1.2043\n",
      "Epoch 4 Batch 300 Loss 1.1686\n",
      "Epoch 4 Loss 1.2430\n",
      "Time taken for 1 epoch 19.89768362045288 sec\n",
      "\n",
      "Epoch 5 Batch 0 Loss 1.1125\n",
      "Epoch 5 Batch 100 Loss 1.0298\n",
      "Epoch 5 Batch 200 Loss 0.9643\n",
      "Epoch 5 Batch 300 Loss 0.9032\n",
      "Epoch 5 Loss 1.0057\n",
      "Time taken for 1 epoch 19.86258816719055 sec\n",
      "\n",
      "Epoch 6 Batch 0 Loss 0.7930\n",
      "Epoch 6 Batch 100 Loss 0.8201\n",
      "Epoch 6 Batch 200 Loss 0.8934\n",
      "Epoch 6 Batch 300 Loss 0.7890\n",
      "Epoch 6 Loss 0.7896\n",
      "Time taken for 1 epoch 19.877053260803223 sec\n",
      "\n",
      "Epoch 7 Batch 0 Loss 0.5409\n",
      "Epoch 7 Batch 100 Loss 0.6230\n",
      "Epoch 7 Batch 200 Loss 0.6251\n",
      "Epoch 7 Batch 300 Loss 0.6845\n",
      "Epoch 7 Loss 0.6203\n",
      "Time taken for 1 epoch 19.824842929840088 sec\n",
      "\n",
      "Epoch 8 Batch 0 Loss 0.4218\n",
      "Epoch 8 Batch 100 Loss 0.6056\n",
      "Epoch 8 Batch 200 Loss 0.5268\n",
      "Epoch 8 Batch 300 Loss 0.4837\n",
      "Epoch 8 Loss 0.4749\n",
      "Time taken for 1 epoch 19.85976815223694 sec\n",
      "\n",
      "Epoch 9 Batch 0 Loss 0.3104\n",
      "Epoch 9 Batch 100 Loss 0.3256\n",
      "Epoch 9 Batch 200 Loss 0.3629\n",
      "Epoch 9 Batch 300 Loss 0.3856\n",
      "Epoch 9 Loss 0.3728\n",
      "Time taken for 1 epoch 19.862656116485596 sec\n",
      "\n",
      "Epoch 10 Batch 0 Loss 0.2597\n",
      "Epoch 10 Batch 100 Loss 0.2097\n",
      "Epoch 10 Batch 200 Loss 0.3596\n",
      "Epoch 10 Batch 300 Loss 0.2928\n",
      "Epoch 10 Loss 0.2924\n",
      "Time taken for 1 epoch 22.822256565093994 sec\n",
      "\n"
     ]
    }
   ],
   "source": [
    "#開始訓練模型\n",
    "EPOCHS = 10\n",
    "\n",
    "for epoch in range(EPOCHS):\n",
    "    start = time.time()\n",
    "    \n",
    "    enc_hidden = encoder.initialize_hidden_state()\n",
    "    \n",
    "    total_loss = 0\n",
    "    \n",
    "    #將預測內容、預測目標放入\n",
    "    \n",
    "    for (batch,(inp,targ)) in enumerate(dataset.take(steps_per_epoch)):\n",
    "        batch_loss = train_step(inp,targ,enc_hidden)\n",
    "        total_loss += batch_loss\n",
    "        \n",
    "        \n",
    "        if batch % 100 == 0:\n",
    "            print('Epoch {} Batch {} Loss {:.4f}'.format(epoch + 1,\n",
    "                                                     batch,\n",
    "                                                     batch_loss.numpy()))\n",
    "\n",
    "    \n",
    "  # 每兩個epochs就儲存一次checkpoint\n",
    "    if (epoch + 1) % 10 == 0:\n",
    "        checkpoint.save(file_prefix = checkpoint_prefix)\n",
    "\n",
    "    print('Epoch {} Loss {:.4f}'.format(epoch + 1,\n",
    "                                  total_loss / steps_per_epoch))\n",
    "    print('Time taken for 1 epoch {} sec\\n'.format(time.time() - start))    "
   ]
  },
  {
   "cell_type": "markdown",
   "metadata": {},
   "source": [
    "### Evaluation"
   ]
  },
  {
   "cell_type": "code",
   "execution_count": 49,
   "metadata": {},
   "outputs": [],
   "source": [
    "def evaluate(sentence):\n",
    "    \n",
    "    attention_plot = np.zeros((max_length_targ,max_length_inp))  #建立最大的輸入與預測目標\n",
    "    \n",
    "    #將資料做前處理，如去除符號、轉tensor..等\n",
    "    sentence = preprocess_sentence(sentence)\n",
    "    \n",
    "    inputs = [inp_lang.word_index[i] for i in sentence.split(' ')]\n",
    "    inputs = tf.keras.preprocessing.sequence.pad_sequences([inputs],\n",
    "                                                          maxlen = max_length_inp,\n",
    "                                                           padding = 'post')\n",
    "    inputs = tf.convert_to_tensor(inputs)\n",
    "    result = ''\n",
    "    \n",
    "    hidden = [tf.zeros((1,units))]\n",
    "    \n",
    "    #透過encoder產生出輸出與狀態\n",
    "    \n",
    "    enc_out,enc_hidden = encoder(inputs,hidden)\n",
    "    \n",
    "    #編碼層的狀態一樣給解碼層(dec_hidden)\n",
    "    \n",
    "    dec_hidden = enc_hidden\n",
    "    \n",
    "    dec_input = tf.expand_dims([targ_lang.word_index['<start>']],0)\n",
    "    \n",
    "    for t in range(max_length_targ):\n",
    "        # 透過decoder解碼，獲得預測結果、解碼狀態、注意力權重\n",
    "        predictions,dec_hidden,attention_weights = decoder(dec_input,dec_hidden,enc_out)\n",
    "        \n",
    "        # 儲存注意力權重\n",
    "        attention_weights = tf.reshape(attention_weights,(-1,))\n",
    "        attention_plot[t] = attention_weights.numpy()\n",
    "        # 將預測ID回饋到模型\n",
    "        \n",
    "        predicted_id = tf.argmax(predictions[0]).numpy()\n",
    "        \n",
    "        result += targ_lang.index_word[predicted_id] + ' '\n",
    "        \n",
    "        if targ_lang.index_word[predicted_id] == '<end>':\n",
    "            return result, sentence,attention_plot\n",
    "        \n",
    "        dec_input = tf.expand_dims([predicted_id],0)\n",
    "        \n",
    "    return result, sentence, attention_plot\n",
    "\n",
    "\n",
    "        "
   ]
  },
  {
   "cell_type": "code",
   "execution_count": 50,
   "metadata": {},
   "outputs": [],
   "source": [
    "# 繪製注意力視覺化\n",
    "def plot_attention(attention, sentence, predicted_sentence):\n",
    "    fig = plt.figure(figsize=(10,10))\n",
    "    ax = fig.add_subplot(1, 1, 1)\n",
    "    ax.matshow(attention, cmap='viridis')\n",
    "\n",
    "    fontdict = {'fontsize': 14}\n",
    "\n",
    "    ax.set_xticklabels([''] + sentence, fontdict=fontdict, rotation=90)\n",
    "    ax.set_yticklabels([''] + predicted_sentence, fontdict=fontdict)\n",
    "\n",
    "    plt.show()"
   ]
  },
  {
   "cell_type": "code",
   "execution_count": 51,
   "metadata": {},
   "outputs": [],
   "source": [
    "# 將模型用來做結果預測\n",
    "def translate(sentence):\n",
    "    result, sentence, attention_plot = evaluate(sentence)\n",
    "\n",
    "    print('Input: %s' % (sentence))\n",
    "    print('Predicted translation: {}'.format(result))\n",
    "\n",
    "    attention_plot = attention_plot[:len(result.split(' ')), :len(sentence.split(' '))]\n",
    "    plot_attention(attention_plot, sentence.split(' '), result.split(' '))"
   ]
  },
  {
   "cell_type": "code",
   "execution_count": 52,
   "metadata": {},
   "outputs": [
    {
     "name": "stdout",
     "output_type": "stream",
     "text": [
      "Input: <start> hace mucho frio aqui . <end>\n",
      "Predicted translation: it expensive very cold here here . <end> \n"
     ]
    },
    {
     "data": {
      "image/png": "[encoded data removed]",
      "text/plain": [
       "<Figure size 720x720 with 1 Axes>"
      ]
     },
     "metadata": {
      "needs_background": "light"
     },
     "output_type": "display_data"
    }
   ],
   "source": [
    "translate(u'hace mucho frio aqui.')"
   ]
  },
  {
   "cell_type": "code",
   "execution_count": 53,
   "metadata": {},
   "outputs": [
    {
     "name": "stdout",
     "output_type": "stream",
     "text": [
      "Input: <start> trata de averiguarlo . <end>\n",
      "Predicted translation: try to figure to out out . <end> \n"
     ]
    },
    {
     "data": {
      "image/png": "[encoded data removed]",
      "text/plain": [
       "<Figure size 720x720 with 1 Axes>"
      ]
     },
     "metadata": {
      "needs_background": "light"
     },
     "output_type": "display_data"
    }
   ],
   "source": [
    "translate(u'trata de averiguarlo.')"
   ]
  },
  {
   "cell_type": "code",
   "execution_count": null,
   "metadata": {},
   "outputs": [],
   "source": []
  }
 ],
 "metadata": {
  "kernelspec": {
   "display_name": "Python 3",
   "language": "python",
   "name": "python3"
  },
  "language_info": {
   "codemirror_mode": {
    "name": "ipython",
    "version": 3
   },
   "file_extension": ".py",
   "mimetype": "text/x-python",
   "name": "python",
   "nbconvert_exporter": "python",
   "pygments_lexer": "ipython3",
   "version": "3.7.6"
  }
 },
 "nbformat": 4,
 "nbformat_minor": 4
}
