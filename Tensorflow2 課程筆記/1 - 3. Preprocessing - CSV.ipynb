{
 "cells": [
  {
   "cell_type": "markdown",
   "id": "brutal-monitor",
   "metadata": {},
   "source": [
    "- Reference: https://ithelp.ithome.com.tw/articles/10241789"
   ]
  },
  {
   "cell_type": "code",
   "execution_count": 1,
   "id": "boxed-superintendent",
   "metadata": {},
   "outputs": [],
   "source": [
    "import tensorflow as tf"
   ]
  },
  {
   "cell_type": "markdown",
   "id": "indie-dialogue",
   "metadata": {},
   "source": [
    "## 單一CSV檔案"
   ]
  },
  {
   "cell_type": "code",
   "execution_count": 2,
   "id": "decreased-register",
   "metadata": {},
   "outputs": [
    {
     "name": "stdout",
     "output_type": "stream",
     "text": [
      "Downloading data from https://storage.googleapis.com/tf-datasets/titanic/train.csv\n",
      "32768/30874 [===============================] - 0s 0us/step\n"
     ]
    }
   ],
   "source": [
    "titanic_file_path = tf.keras.utils.get_file(\"train.csv\", \"https://storage.googleapis.com/tf-datasets/titanic/train.csv\")"
   ]
  },
  {
   "cell_type": "code",
   "execution_count": 4,
   "id": "later-packing",
   "metadata": {},
   "outputs": [],
   "source": [
    "titanic_csv_ds = tf.data.experimental.make_csv_dataset(\n",
    "    titanic_file_path,\n",
    "    batch_size = 5,\n",
    "    label_name = 'survived',\n",
    "    ignore_errors = True\n",
    "\n",
    ")\n",
    "\n",
    "#file_pattern：指定的資料來源\n",
    "#batch_size：單一批次處理的數量\n",
    "#column_names：欄位的名稱，若無指定則會自動推論名稱\n",
    "#column_defaults：欄位中指定的格式，如float32, float64, int32, int64, string\n",
    "#label_name：指定模型推論的欄位\n",
    "#select_columns：可以挑選指定的欄位資料\n",
    "#field_delim：預設為csv的\",\"，可用於指定分隔資料的符號\n",
    "#use_quote_delim：預設值為True，若設定為False則會將雙引號讀取為常規字串\n",
    "#na_value：可以設定是否識別NA / NaN值\n",
    "#header：是否包含檔頭\n",
    "#num_epochs：可以指定重複該數據的次數\n",
    "#shuffle：隨機抽換資料\n",
    "#shuffle_buffer_size：隨機抽換資料的大小，數字越大，記憶體消耗越大\n",
    "#shuffle_seed：隨機種子\n",
    "#prefetch_buffer_size：預設為自動調整，通常是配合批次量來處理\n",
    "#num_parallel_reads：指定讀取資料的線程數，預設為1\n",
    "#sloppy:如果設定為True，則會盡可能高效率的方式給予讀取資料，但不保證排序或資料是否有問題\n",
    "#num_rows_for_inference：預設為100，如果設定為None則可以讀取所有的資料\n",
    "#compression_type：預設為無壓縮，支援ZLIB與GZIP格式\n",
    "#ignore_errors：忽略CSV文件解析過程中的錯誤"
   ]
  },
  {
   "cell_type": "code",
   "execution_count": 10,
   "id": "tough-specialist",
   "metadata": {},
   "outputs": [
    {
     "name": "stdout",
     "output_type": "stream",
     "text": [
      "sex:[b'female' b'female' b'male' b'male' b'female']\n",
      "age:[35.  22.  22.  32.5 24. ]\n",
      "n_siblings_spouses:[1 0 1 1 0]\n",
      "parch:[0 2 0 0 3]\n",
      "fare:[83.475  49.5     7.25   30.0708 19.2583]\n",
      "class:[b'First' b'First' b'Third' b'Second' b'Third']\n",
      "deck:[b'C' b'B' b'unknown' b'unknown' b'unknown']\n",
      "embark_town:[b'Southampton' b'Cherbourg' b'Southampton' b'Cherbourg' b'Cherbourg']\n",
      "alone:[b'n' b'n' b'n' b'n' b'n']\n",
      "label:[1 1 0 0 1]\n"
     ]
    }
   ],
   "source": [
    "for batch,label in titanic_csv_ds.take(1): # 取出一個batch\n",
    "    for key,value in batch.items():\n",
    "        print(f\"{key:1s}:{value}\")\n",
    "    print(f\"{'label':1s}:{label}\")"
   ]
  },
  {
   "cell_type": "markdown",
   "id": "blind-standard",
   "metadata": {},
   "source": [
    "## 單一GZ檔"
   ]
  },
  {
   "cell_type": "code",
   "execution_count": 18,
   "id": "oriental-induction",
   "metadata": {},
   "outputs": [],
   "source": [
    "traffic_volumn_csv_gz = tf.keras.utils.get_file(\n",
    "    'Metro_Interstate_Traffic_Volume.csv.gz', \n",
    "    \"https://archive.ics.uci.edu/ml/machine-learning-databases/00492/Metro_Interstate_Traffic_Volume.csv.gz\",\n",
    "    cache_dir='.', cache_subdir='traffic')"
   ]
  },
  {
   "cell_type": "code",
   "execution_count": 22,
   "id": "static-slovenia",
   "metadata": {},
   "outputs": [
    {
     "name": "stdout",
     "output_type": "stream",
     "text": [
      "holiday             :[b'None' b'None' b'None' b'None' b'None']\n",
      "temp                :[264.15 290.26 277.61 272.08 280.1 ]\n",
      "rain_1h             :[0. 0. 0. 0. 0.]\n",
      "snow_1h             :[0. 0. 0. 0. 0.]\n",
      "clouds_all          :[75  0 20 90 92]\n",
      "weather_main        :[b'Clouds' b'Mist' b'Clouds' b'Mist' b'Rain']\n",
      "weather_description :[b'broken clouds' b'mist' b'few clouds' b'mist' b'light rain']\n",
      "date_time           :[b'2012-12-24 18:00:00' b'2013-06-25 06:00:00' b'2012-11-17 12:00:00'\n",
      " b'2013-04-12 09:00:00' b'2012-10-19 23:00:00']\n",
      "\n",
      "label               :[2536 6386 4753 5197 2051]\n"
     ]
    }
   ],
   "source": [
    "traffic_volume_csv_gz_ds = tf.data.experimental.make_csv_dataset(\n",
    "    traffic_volumn_csv_gz,\n",
    "    batch_size = 256,\n",
    "    label_name = 'traffic_volume',\n",
    "    num_epochs = 1,\n",
    "    compression_type = \"GZIP\"\n",
    ")\n",
    "\n",
    "for batch, label in traffic_volume_csv_gz_ds.take(1):\n",
    "    for key,value in batch.items():\n",
    "        print(f\"{key:20s}:{value[:5]}\")\n",
    "    print()\n",
    "    print(f\"{'label':20s}:{label[:5]}\")\n",
    "        "
   ]
  },
  {
   "cell_type": "code",
   "execution_count": 23,
   "id": "regional-commissioner",
   "metadata": {},
   "outputs": [
    {
     "data": {
      "text/plain": [
       "<PrefetchDataset shapes: (OrderedDict([(holiday, (None,)), (temp, (None,)), (rain_1h, (None,)), (snow_1h, (None,)), (clouds_all, (None,)), (weather_main, (None,)), (weather_description, (None,)), (date_time, (None,))]), (None,)), types: (OrderedDict([(holiday, tf.string), (temp, tf.float32), (rain_1h, tf.float32), (snow_1h, tf.float32), (clouds_all, tf.int32), (weather_main, tf.string), (weather_description, tf.string), (date_time, tf.string)]), tf.int32)>"
      ]
     },
     "execution_count": 23,
     "metadata": {},
     "output_type": "execute_result"
    }
   ],
   "source": [
    "traffic_volume_csv_gz_ds"
   ]
  },
  {
   "cell_type": "markdown",
   "id": "intelligent-coach",
   "metadata": {},
   "source": [
    "### 透過快取(Caching)或快照(Snapshot)處理數據\n",
    "\n",
    "- repeat: 重複執行次數\n",
    "- prefetch()：在訓練時，同時讀取下一批資料，並作轉換。\n",
    "- cache()：可將讀出的資料留在快取記憶體，之後可重複使用。"
   ]
  },
  {
   "cell_type": "code",
   "execution_count": 25,
   "id": "cultural-hypothetical",
   "metadata": {},
   "outputs": [
    {
     "name": "stdout",
     "output_type": "stream",
     "text": [
      "...............................................................................................\n",
      "Wall time: 5.87 s\n"
     ]
    }
   ],
   "source": [
    "%%time\n",
    "\n",
    "for i, (batch,label) in enumerate(traffic_volume_csv_gz_ds.repeat(20)):\n",
    "    if i % 40 == 0:\n",
    "        print('.',end = '')\n",
    "print()"
   ]
  },
  {
   "cell_type": "code",
   "execution_count": 28,
   "id": "trained-tonight",
   "metadata": {},
   "outputs": [
    {
     "name": "stdout",
     "output_type": "stream",
     "text": [
      "...............................................................................................\n",
      "Wall time: 905 ms\n"
     ]
    }
   ],
   "source": [
    "%%time\n",
    "#快取(Caching)將數據在第一次epoch就做快取\n",
    "\n",
    "\n",
    "caching = traffic_volume_csv_gz_ds.cache().shuffle(1000)\n",
    "\n",
    "for i,(batch,label) in enumerate(caching.shuffle(1000).repeat(20)):\n",
    "    if i % 40 == 0:\n",
    "        print('.',end=  '')\n",
    "print()"
   ]
  },
  {
   "cell_type": "code",
   "execution_count": null,
   "id": "responsible-import",
   "metadata": {},
   "outputs": [],
   "source": []
  },
  {
   "cell_type": "code",
   "execution_count": null,
   "id": "intelligent-remark",
   "metadata": {},
   "outputs": [],
   "source": []
  }
 ],
 "metadata": {
  "kernelspec": {
   "display_name": "Python 3 (ipykernel)",
   "language": "python",
   "name": "python3"
  },
  "language_info": {
   "codemirror_mode": {
    "name": "ipython",
    "version": 3
   },
   "file_extension": ".py",
   "mimetype": "text/x-python",
   "name": "python",
   "nbconvert_exporter": "python",
   "pygments_lexer": "ipython3",
   "version": "3.8.5"
  }
 },
 "nbformat": 4,
 "nbformat_minor": 5
}
